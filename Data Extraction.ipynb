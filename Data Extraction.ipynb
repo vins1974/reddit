{
 "cells": [
  {
   "cell_type": "code",
   "execution_count": 1,
   "metadata": {},
   "outputs": [],
   "source": [
    "import praw\n",
    "import pandas as pd"
   ]
  },
  {
   "cell_type": "code",
   "execution_count": 2,
   "metadata": {},
   "outputs": [],
   "source": [
    "reddit = praw.Reddit(client_id='WUTH6H3Cx7KW4w',\n",
    "                   client_secret='hBOWXZ37WOOY9M9oT-SD-2H7ql_7HQ', \n",
    "                   user_agent='user_agent')"
   ]
  },
  {
   "cell_type": "code",
   "execution_count": 3,
   "metadata": {},
   "outputs": [],
   "source": [
    "subreddit_list ='Popular'\n",
    "subreddit=reddit.subreddit(subreddit_list)"
   ]
  },
  {
   "cell_type": "markdown",
   "metadata": {},
   "source": [
    "subreddit = reddit.subreddit('Popular')\n",
    "subreddit_list = ('Popular', 'funny')\n",
    "\n"
   ]
  },
  {
   "cell_type": "markdown",
   "metadata": {},
   "source": [
    ",  'movies','politics', 'gaming', 'news', \n",
    "                  'starwars', 'comicbooks', 'starcraft',  'motorcycles',\\\n",
    "                   'music','gameofthrones', 'startrek', 'community',\\\n",
    "                   'conspiracy', 'skyrim', 'science', 'harrypotter', 'breakingbad',\\\n",
    "                   'doctorwho', 'minecraft', 'libertarian', 'food', 'jokes', 'himym',\\\n",
    "                   'explainlikeimfive', 'conservative', 'offbeat', 'mylittlepony',\\\n",
    "                   'space', 'drunk', 'askscience', 'circlejerk', 'askhistorians')\n"
   ]
  },
  {
   "cell_type": "code",
   "execution_count": 4,
   "metadata": {},
   "outputs": [],
   "source": [
    "hot_python = subreddit.hot(limit=100000)\n"
   ]
  },
  {
   "cell_type": "code",
   "execution_count": 5,
   "metadata": {},
   "outputs": [],
   "source": [
    "data_dict = { \"body\":  [],\n",
    "                \"created_utc\" :[],\n",
    "                \"ups\" : [],\n",
    "                \"downs\" : [],\n",
    "                \"upvote_ratio\" : [],\n",
    "                \"score\" : [],\n",
    "                \"gilded\" :[],\n",
    "                \"over_18\" : [],\n",
    "                \"number_of_Comments\" : [],\n",
    "                \"author\" :[],\n",
    "                \"archived\":[],\n",
    "                \"edited\":[],\n",
    "                \"link_id\":[], \n",
    "               \"url\":[] }           \n",
    "\n",
    "for submission in hot_python:\n",
    "    if not submission.stickied:\n",
    "        data_dict[\"body\"].append(submission.title)\n",
    "        data_dict[\"created_utc\"].append(submission.created_utc)\n",
    "        data_dict[\"ups\"].append(submission.ups)\n",
    "        data_dict[\"downs\"].append(submission.downs)\n",
    "        data_dict[\"upvote_ratio\"].append(submission.upvote_ratio)\n",
    "        data_dict[\"score\"].append(submission.score)\n",
    "        data_dict[\"gilded\"].append(submission.gilded)\n",
    "        data_dict[\"over_18\"].append(submission.over_18)\n",
    "        data_dict[\"number_of_Comments\"].append(submission.num_comments)\n",
    "        data_dict[\"author\"].append(submission.author)\n",
    "        data_dict[\"archived\"].append(submission.archived)\n",
    "        data_dict[\"edited\"].append(submission.edited)\n",
    "        data_dict[\"link_id\"].append(submission.id)\n",
    "        data_dict[\"url\"].append(submission.url)    \n",
    "        submission."
   ]
  },
  {
   "cell_type": "code",
   "execution_count": 6,
   "metadata": {},
   "outputs": [],
   "source": [
    "data = pd.DataFrame(data_dict)"
   ]
  },
  {
   "cell_type": "code",
   "execution_count": 7,
   "metadata": {},
   "outputs": [
    {
     "data": {
      "text/html": [
       "<div>\n",
       "<style scoped>\n",
       "    .dataframe tbody tr th:only-of-type {\n",
       "        vertical-align: middle;\n",
       "    }\n",
       "\n",
       "    .dataframe tbody tr th {\n",
       "        vertical-align: top;\n",
       "    }\n",
       "\n",
       "    .dataframe thead th {\n",
       "        text-align: right;\n",
       "    }\n",
       "</style>\n",
       "<table border=\"1\" class=\"dataframe\">\n",
       "  <thead>\n",
       "    <tr style=\"text-align: right;\">\n",
       "      <th></th>\n",
       "      <th>body</th>\n",
       "      <th>created_utc</th>\n",
       "      <th>ups</th>\n",
       "      <th>downs</th>\n",
       "      <th>upvote_ratio</th>\n",
       "      <th>score</th>\n",
       "      <th>gilded</th>\n",
       "      <th>over_18</th>\n",
       "      <th>number_of_Comments</th>\n",
       "      <th>author</th>\n",
       "      <th>archived</th>\n",
       "      <th>edited</th>\n",
       "      <th>link_id</th>\n",
       "      <th>url</th>\n",
       "    </tr>\n",
       "  </thead>\n",
       "  <tbody>\n",
       "    <tr>\n",
       "      <th>0</th>\n",
       "      <td>I Can Feel The Rage</td>\n",
       "      <td>1.610518e+09</td>\n",
       "      <td>21156</td>\n",
       "      <td>0</td>\n",
       "      <td>0.94</td>\n",
       "      <td>21156</td>\n",
       "      <td>0</td>\n",
       "      <td>False</td>\n",
       "      <td>465</td>\n",
       "      <td>Halzman</td>\n",
       "      <td>False</td>\n",
       "      <td>False</td>\n",
       "      <td>kwamfv</td>\n",
       "      <td>https://i.redd.it/o3y39kwlk1b61.jpg</td>\n",
       "    </tr>\n",
       "    <tr>\n",
       "      <th>1</th>\n",
       "      <td>Zenith of the art form</td>\n",
       "      <td>1.610517e+09</td>\n",
       "      <td>22020</td>\n",
       "      <td>0</td>\n",
       "      <td>0.98</td>\n",
       "      <td>22020</td>\n",
       "      <td>0</td>\n",
       "      <td>False</td>\n",
       "      <td>262</td>\n",
       "      <td>KevlarYarmulke</td>\n",
       "      <td>False</td>\n",
       "      <td>False</td>\n",
       "      <td>kwabye</td>\n",
       "      <td>https://i.imgur.com/f2YykGz.jpg</td>\n",
       "    </tr>\n",
       "    <tr>\n",
       "      <th>2</th>\n",
       "      <td>Fox News: McConnell believes Trump committed i...</td>\n",
       "      <td>1.610491e+09</td>\n",
       "      <td>30701</td>\n",
       "      <td>0</td>\n",
       "      <td>0.77</td>\n",
       "      <td>30701</td>\n",
       "      <td>1</td>\n",
       "      <td>False</td>\n",
       "      <td>5185</td>\n",
       "      <td>juicesalinas</td>\n",
       "      <td>False</td>\n",
       "      <td>False</td>\n",
       "      <td>kw2lq8</td>\n",
       "      <td>https://www.foxnews.com/politics/mcconnell-bel...</td>\n",
       "    </tr>\n",
       "    <tr>\n",
       "      <th>3</th>\n",
       "      <td>'I'm not a magician': Lawyer for man pictured ...</td>\n",
       "      <td>1.610465e+09</td>\n",
       "      <td>61881</td>\n",
       "      <td>0</td>\n",
       "      <td>0.91</td>\n",
       "      <td>61881</td>\n",
       "      <td>0</td>\n",
       "      <td>False</td>\n",
       "      <td>4444</td>\n",
       "      <td>ClaraWhoWastedAway</td>\n",
       "      <td>False</td>\n",
       "      <td>False</td>\n",
       "      <td>kvtnpt</td>\n",
       "      <td>https://www.wtsp.com/article/news/crime/adam-j...</td>\n",
       "    </tr>\n",
       "    <tr>\n",
       "      <th>4</th>\n",
       "      <td>A mother's reaction after seeing her son has p...</td>\n",
       "      <td>1.610497e+09</td>\n",
       "      <td>108510</td>\n",
       "      <td>0</td>\n",
       "      <td>0.84</td>\n",
       "      <td>108510</td>\n",
       "      <td>8</td>\n",
       "      <td>False</td>\n",
       "      <td>4154</td>\n",
       "      <td>americanthaiguy</td>\n",
       "      <td>False</td>\n",
       "      <td>False</td>\n",
       "      <td>kw4jwg</td>\n",
       "      <td>https://v.redd.it/7d89yzt8tza61</td>\n",
       "    </tr>\n",
       "  </tbody>\n",
       "</table>\n",
       "</div>"
      ],
      "text/plain": [
       "                                                body   created_utc     ups  \\\n",
       "0                                I Can Feel The Rage  1.610518e+09   21156   \n",
       "1                             Zenith of the art form  1.610517e+09   22020   \n",
       "2  Fox News: McConnell believes Trump committed i...  1.610491e+09   30701   \n",
       "3  'I'm not a magician': Lawyer for man pictured ...  1.610465e+09   61881   \n",
       "4  A mother's reaction after seeing her son has p...  1.610497e+09  108510   \n",
       "\n",
       "   downs  upvote_ratio   score  gilded  over_18  number_of_Comments  \\\n",
       "0      0          0.94   21156       0    False                 465   \n",
       "1      0          0.98   22020       0    False                 262   \n",
       "2      0          0.77   30701       1    False                5185   \n",
       "3      0          0.91   61881       0    False                4444   \n",
       "4      0          0.84  108510       8    False                4154   \n",
       "\n",
       "               author  archived edited link_id  \\\n",
       "0             Halzman     False  False  kwamfv   \n",
       "1      KevlarYarmulke     False  False  kwabye   \n",
       "2        juicesalinas     False  False  kw2lq8   \n",
       "3  ClaraWhoWastedAway     False  False  kvtnpt   \n",
       "4     americanthaiguy     False  False  kw4jwg   \n",
       "\n",
       "                                                 url  \n",
       "0                https://i.redd.it/o3y39kwlk1b61.jpg  \n",
       "1                    https://i.imgur.com/f2YykGz.jpg  \n",
       "2  https://www.foxnews.com/politics/mcconnell-bel...  \n",
       "3  https://www.wtsp.com/article/news/crime/adam-j...  \n",
       "4                    https://v.redd.it/7d89yzt8tza61  "
      ]
     },
     "execution_count": 7,
     "metadata": {},
     "output_type": "execute_result"
    }
   ],
   "source": [
    "data.head()"
   ]
  },
  {
   "cell_type": "code",
   "execution_count": 8,
   "metadata": {},
   "outputs": [
    {
     "data": {
      "text/plain": [
       "(7574, 14)"
      ]
     },
     "execution_count": 8,
     "metadata": {},
     "output_type": "execute_result"
    }
   ],
   "source": [
    "data.shape"
   ]
  },
  {
   "cell_type": "code",
   "execution_count": 9,
   "metadata": {},
   "outputs": [],
   "source": [
    "data.to_csv('Reddit_data.csv')"
   ]
  },
  {
   "cell_type": "code",
   "execution_count": 10,
   "metadata": {},
   "outputs": [],
   "source": [
    "#7550 -100000"
   ]
  },
  {
   "cell_type": "code",
   "execution_count": null,
   "metadata": {},
   "outputs": [],
   "source": []
  }
 ],
 "metadata": {
  "kernelspec": {
   "display_name": "Python 3",
   "language": "python",
   "name": "python3"
  },
  "language_info": {
   "codemirror_mode": {
    "name": "ipython",
    "version": 3
   },
   "file_extension": ".py",
   "mimetype": "text/x-python",
   "name": "python",
   "nbconvert_exporter": "python",
   "pygments_lexer": "ipython3",
   "version": "3.7.0"
  }
 },
 "nbformat": 4,
 "nbformat_minor": 2
}
