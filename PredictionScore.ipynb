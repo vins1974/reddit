{
 "cells": [
  {
   "cell_type": "markdown",
   "metadata": {},
   "source": [
    "## Importing Libraries"
   ]
  },
  {
   "cell_type": "code",
   "execution_count": 1,
   "metadata": {},
   "outputs": [
    {
     "name": "stderr",
     "output_type": "stream",
     "text": [
      "Using TensorFlow backend.\n"
     ]
    }
   ],
   "source": [
    "import pandas as pd\n",
    "import numpy as np\n",
    "from numpy import asarray\n",
    "from numpy import zeros\n",
    "import numpy.ma as ma\n",
    "import bz2\n",
    "import json\n",
    "import seaborn as sns\n",
    "import matplotlib.pyplot as plt\n",
    "%matplotlib inline\n",
    "import numpy as np\n",
    "from multiprocessing import Pool\n",
    "from textblob import TextBlob\n",
    "import re\n",
    "from matplotlib.pyplot import figure\n",
    "from matplotlib import rcParams\n",
    "from sklearn.preprocessing import OneHotEncoder\n",
    "\n",
    "import nltk\n",
    "from nltk.corpus import stopwords\n",
    "from wordcloud import WordCloud, STOPWORDS\n",
    "from vaderSentiment.vaderSentiment import SentimentIntensityAnalyzer\n",
    "\n",
    "from sklearn.metrics import mean_squared_error, r2_score, mean_absolute_error\n",
    "from sklearn import metrics\n",
    "from sklearn.model_selection import train_test_split\n",
    "from keras.preprocessing.text import Tokenizer\n",
    "from keras.preprocessing.sequence import pad_sequences\n",
    "\n",
    "from sklearn.linear_model import LinearRegression\n",
    "from sklearn.linear_model import ElasticNetCV\n",
    "from sklearn.tree import DecisionTreeRegressor\n",
    "from sklearn.ensemble import RandomForestRegressor\n",
    "from sklearn.ensemble import GradientBoostingRegressor\n",
    "from sklearn.ensemble import  AdaBoostRegressor\n",
    "import xgboost as xgb\n",
    "import lightgbm as lgbm\n",
    "\n",
    "import sklearn.model_selection as model_selection\n",
    "import pickle\n",
    "import warnings\n",
    "warnings.filterwarnings('ignore')\n"
   ]
  },
  {
   "cell_type": "markdown",
   "metadata": {},
   "source": [
    "## Importing Data"
   ]
  },
  {
   "cell_type": "code",
   "execution_count": 2,
   "metadata": {},
   "outputs": [],
   "source": [
    "df=pd.read_csv('Reddit_data.csv')"
   ]
  },
  {
   "cell_type": "code",
   "execution_count": 3,
   "metadata": {},
   "outputs": [
    {
     "name": "stdout",
     "output_type": "stream",
     "text": [
      "The columns present are  Index(['Unnamed: 0', 'body', 'created_utc', 'ups', 'downs', 'upvote_ratio',\n",
      "       'score', 'gilded', 'over_18', 'number_of_Comments', 'author',\n",
      "       'archived', 'edited', 'link_id', 'url'],\n",
      "      dtype='object')\n"
     ]
    }
   ],
   "source": [
    "print(\"The columns present are \", df.columns)"
   ]
  },
  {
   "cell_type": "code",
   "execution_count": 5,
   "metadata": {},
   "outputs": [],
   "source": [
    "df.drop(['Unnamed: 0'], axis=1, inplace=True)\n"
   ]
  },
  {
   "cell_type": "markdown",
   "metadata": {},
   "source": [
    "## Exploring Data "
   ]
  },
  {
   "cell_type": "code",
   "execution_count": 7,
   "metadata": {
    "scrolled": true
   },
   "outputs": [
    {
     "name": "stdout",
     "output_type": "stream",
     "text": [
      "<class 'pandas.core.frame.DataFrame'>\n",
      "RangeIndex: 7574 entries, 0 to 7573\n",
      "Data columns (total 14 columns):\n",
      "body                  7574 non-null object\n",
      "created_utc           7574 non-null float64\n",
      "ups                   7574 non-null int64\n",
      "downs                 7574 non-null int64\n",
      "upvote_ratio          7574 non-null float64\n",
      "score                 7574 non-null int64\n",
      "gilded                7574 non-null int64\n",
      "over_18               7574 non-null bool\n",
      "number_of_Comments    7574 non-null int64\n",
      "author                7574 non-null object\n",
      "archived              7574 non-null bool\n",
      "edited                7574 non-null object\n",
      "link_id               7574 non-null object\n",
      "url                   7574 non-null object\n",
      "dtypes: bool(2), float64(2), int64(5), object(5)\n",
      "memory usage: 724.9+ KB\n"
     ]
    }
   ],
   "source": [
    "df.info()"
   ]
  },
  {
   "cell_type": "code",
   "execution_count": 8,
   "metadata": {
    "scrolled": true
   },
   "outputs": [
    {
     "data": {
      "text/html": [
       "<div>\n",
       "<style scoped>\n",
       "    .dataframe tbody tr th:only-of-type {\n",
       "        vertical-align: middle;\n",
       "    }\n",
       "\n",
       "    .dataframe tbody tr th {\n",
       "        vertical-align: top;\n",
       "    }\n",
       "\n",
       "    .dataframe thead th {\n",
       "        text-align: right;\n",
       "    }\n",
       "</style>\n",
       "<table border=\"1\" class=\"dataframe\">\n",
       "  <thead>\n",
       "    <tr style=\"text-align: right;\">\n",
       "      <th></th>\n",
       "      <th>created_utc</th>\n",
       "      <th>ups</th>\n",
       "      <th>downs</th>\n",
       "      <th>upvote_ratio</th>\n",
       "      <th>score</th>\n",
       "      <th>gilded</th>\n",
       "      <th>number_of_Comments</th>\n",
       "    </tr>\n",
       "  </thead>\n",
       "  <tbody>\n",
       "    <tr>\n",
       "      <th>count</th>\n",
       "      <td>7.574000e+03</td>\n",
       "      <td>7574.000000</td>\n",
       "      <td>7574.0</td>\n",
       "      <td>7574.000000</td>\n",
       "      <td>7574.000000</td>\n",
       "      <td>7574.000000</td>\n",
       "      <td>7574.000000</td>\n",
       "    </tr>\n",
       "    <tr>\n",
       "      <th>mean</th>\n",
       "      <td>1.610494e+09</td>\n",
       "      <td>4221.566015</td>\n",
       "      <td>0.0</td>\n",
       "      <td>0.971473</td>\n",
       "      <td>4221.566015</td>\n",
       "      <td>0.055849</td>\n",
       "      <td>107.735939</td>\n",
       "    </tr>\n",
       "    <tr>\n",
       "      <th>std</th>\n",
       "      <td>1.993593e+04</td>\n",
       "      <td>10836.421861</td>\n",
       "      <td>0.0</td>\n",
       "      <td>0.032272</td>\n",
       "      <td>10836.421861</td>\n",
       "      <td>0.326920</td>\n",
       "      <td>406.792304</td>\n",
       "    </tr>\n",
       "    <tr>\n",
       "      <th>min</th>\n",
       "      <td>1.610446e+09</td>\n",
       "      <td>61.000000</td>\n",
       "      <td>0.0</td>\n",
       "      <td>0.610000</td>\n",
       "      <td>61.000000</td>\n",
       "      <td>0.000000</td>\n",
       "      <td>0.000000</td>\n",
       "    </tr>\n",
       "    <tr>\n",
       "      <th>25%</th>\n",
       "      <td>1.610478e+09</td>\n",
       "      <td>337.000000</td>\n",
       "      <td>0.0</td>\n",
       "      <td>0.960000</td>\n",
       "      <td>337.000000</td>\n",
       "      <td>0.000000</td>\n",
       "      <td>12.000000</td>\n",
       "    </tr>\n",
       "    <tr>\n",
       "      <th>50%</th>\n",
       "      <td>1.610495e+09</td>\n",
       "      <td>891.500000</td>\n",
       "      <td>0.0</td>\n",
       "      <td>0.980000</td>\n",
       "      <td>891.500000</td>\n",
       "      <td>0.000000</td>\n",
       "      <td>31.000000</td>\n",
       "    </tr>\n",
       "    <tr>\n",
       "      <th>75%</th>\n",
       "      <td>1.610509e+09</td>\n",
       "      <td>2899.750000</td>\n",
       "      <td>0.0</td>\n",
       "      <td>0.990000</td>\n",
       "      <td>2899.750000</td>\n",
       "      <td>0.000000</td>\n",
       "      <td>84.000000</td>\n",
       "    </tr>\n",
       "    <tr>\n",
       "      <th>max</th>\n",
       "      <td>1.610531e+09</td>\n",
       "      <td>147591.000000</td>\n",
       "      <td>0.0</td>\n",
       "      <td>1.000000</td>\n",
       "      <td>147591.000000</td>\n",
       "      <td>8.000000</td>\n",
       "      <td>20590.000000</td>\n",
       "    </tr>\n",
       "  </tbody>\n",
       "</table>\n",
       "</div>"
      ],
      "text/plain": [
       "        created_utc            ups   downs  upvote_ratio          score  \\\n",
       "count  7.574000e+03    7574.000000  7574.0   7574.000000    7574.000000   \n",
       "mean   1.610494e+09    4221.566015     0.0      0.971473    4221.566015   \n",
       "std    1.993593e+04   10836.421861     0.0      0.032272   10836.421861   \n",
       "min    1.610446e+09      61.000000     0.0      0.610000      61.000000   \n",
       "25%    1.610478e+09     337.000000     0.0      0.960000     337.000000   \n",
       "50%    1.610495e+09     891.500000     0.0      0.980000     891.500000   \n",
       "75%    1.610509e+09    2899.750000     0.0      0.990000    2899.750000   \n",
       "max    1.610531e+09  147591.000000     0.0      1.000000  147591.000000   \n",
       "\n",
       "            gilded  number_of_Comments  \n",
       "count  7574.000000         7574.000000  \n",
       "mean      0.055849          107.735939  \n",
       "std       0.326920          406.792304  \n",
       "min       0.000000            0.000000  \n",
       "25%       0.000000           12.000000  \n",
       "50%       0.000000           31.000000  \n",
       "75%       0.000000           84.000000  \n",
       "max       8.000000        20590.000000  "
      ]
     },
     "execution_count": 8,
     "metadata": {},
     "output_type": "execute_result"
    }
   ],
   "source": [
    "df.describe()"
   ]
  },
  {
   "cell_type": "markdown",
   "metadata": {},
   "source": [
    "## Handling Missing Values"
   ]
  },
  {
   "cell_type": "code",
   "execution_count": 9,
   "metadata": {
    "scrolled": true
   },
   "outputs": [
    {
     "name": "stdout",
     "output_type": "stream",
     "text": [
      "Percentage of missing values per variable:\n",
      "body                  0.0\n",
      "created_utc           0.0\n",
      "ups                   0.0\n",
      "downs                 0.0\n",
      "upvote_ratio          0.0\n",
      "score                 0.0\n",
      "gilded                0.0\n",
      "over_18               0.0\n",
      "number_of_Comments    0.0\n",
      "author                0.0\n",
      "archived              0.0\n",
      "edited                0.0\n",
      "link_id               0.0\n",
      "url                   0.0\n",
      "dtype: float64\n"
     ]
    }
   ],
   "source": [
    "print('Percentage of missing values per variable:')\n",
    "print(round(df.isna().sum() / len(df) * 100, 2))"
   ]
  },
  {
   "cell_type": "markdown",
   "metadata": {},
   "source": [
    "Data has no missing values"
   ]
  },
  {
   "cell_type": "code",
   "execution_count": 10,
   "metadata": {},
   "outputs": [
    {
     "data": {
      "text/plain": [
       "Index(['body', 'created_utc', 'ups', 'downs', 'upvote_ratio', 'score',\n",
       "       'gilded', 'over_18', 'number_of_Comments', 'author', 'archived',\n",
       "       'edited', 'link_id', 'url'],\n",
       "      dtype='object')"
      ]
     },
     "execution_count": 10,
     "metadata": {},
     "output_type": "execute_result"
    }
   ],
   "source": [
    "df.columns"
   ]
  },
  {
   "cell_type": "markdown",
   "metadata": {},
   "source": [
    "## Exploring data by each variable "
   ]
  },
  {
   "cell_type": "code",
   "execution_count": 11,
   "metadata": {},
   "outputs": [
    {
     "data": {
      "text/plain": [
       "False    7574\n",
       "Name: archived, dtype: int64"
      ]
     },
     "execution_count": 11,
     "metadata": {},
     "output_type": "execute_result"
    }
   ],
   "source": [
    "df['archived'].value_counts()"
   ]
  },
  {
   "cell_type": "code",
   "execution_count": 12,
   "metadata": {},
   "outputs": [
    {
     "data": {
      "text/plain": [
       "False    7485\n",
       "True       89\n",
       "Name: over_18, dtype: int64"
      ]
     },
     "execution_count": 12,
     "metadata": {},
     "output_type": "execute_result"
    }
   ],
   "source": [
    "df['over_18'].value_counts()"
   ]
  },
  {
   "cell_type": "code",
   "execution_count": 13,
   "metadata": {},
   "outputs": [
    {
     "data": {
      "text/plain": [
       "False           7467\n",
       "1610511282.0       2\n",
       "1610509078.0       1\n",
       "1610516785.0       1\n",
       "1610519494.0       1\n",
       "Name: edited, dtype: int64"
      ]
     },
     "execution_count": 13,
     "metadata": {},
     "output_type": "execute_result"
    }
   ],
   "source": [
    "df['edited'].value_counts().head()  "
   ]
  },
  {
   "cell_type": "code",
   "execution_count": 14,
   "metadata": {},
   "outputs": [
    {
     "data": {
      "text/plain": [
       "0    7261\n",
       "1     254\n",
       "2      30\n",
       "3      18\n",
       "4       7\n",
       "6       2\n",
       "7       1\n",
       "8       1\n",
       "Name: gilded, dtype: int64"
      ]
     },
     "execution_count": 14,
     "metadata": {},
     "output_type": "execute_result"
    }
   ],
   "source": [
    "df['gilded'].value_counts()                     "
   ]
  },
  {
   "cell_type": "code",
   "execution_count": 15,
   "metadata": {},
   "outputs": [
    {
     "data": {
      "text/plain": [
       "kw87z6    1\n",
       "kw7inu    1\n",
       "kw6zvx    1\n",
       "kw8liz    1\n",
       "kvs71v    1\n",
       "Name: link_id, dtype: int64"
      ]
     },
     "execution_count": 15,
     "metadata": {},
     "output_type": "execute_result"
    }
   ],
   "source": [
    "df['link_id'].value_counts().head()                     "
   ]
  },
  {
   "cell_type": "markdown",
   "metadata": {},
   "source": [
    "**By exploring the variables following Feature engineering is carried :**"
   ]
  },
  {
   "cell_type": "markdown",
   "metadata": {},
   "source": [
    "### Feature Engineering"
   ]
  },
  {
   "cell_type": "code",
   "execution_count": 16,
   "metadata": {},
   "outputs": [],
   "source": [
    "#Convert created_utc to datetime\n",
    "from datetime import datetime\n",
    "df[\"created_utc\"] = pd.to_datetime(df['created_utc'], unit='s')"
   ]
  },
  {
   "cell_type": "markdown",
   "metadata": {},
   "source": [
    "### Preliminaries"
   ]
  },
  {
   "cell_type": "code",
   "execution_count": 17,
   "metadata": {},
   "outputs": [
    {
     "name": "stdout",
     "output_type": "stream",
     "text": [
      "On average a thread (a discussion) has 1.0 comments.\n",
      "The average number of comments per author is 1.11\n"
     ]
    }
   ],
   "source": [
    "print(\"On average a thread (a discussion) has\", round(len(df) / len(set(df.link_id)), 2), \"comments.\")\n",
    "print(\"The average number of comments per author is\", round(len(df) / len(set(df.author)), 2))"
   ]
  },
  {
   "cell_type": "code",
   "execution_count": 18,
   "metadata": {},
   "outputs": [
    {
     "name": "stdout",
     "output_type": "stream",
     "text": [
      "There are 7574 unique link_ids.\n"
     ]
    }
   ],
   "source": [
    "print(\"There are\", len(set(df.link_id)), \"unique link_ids.\")"
   ]
  },
  {
   "cell_type": "code",
   "execution_count": 19,
   "metadata": {},
   "outputs": [
    {
     "name": "stdout",
     "output_type": "stream",
     "text": [
      "Number of bodys: \t7574\n",
      "Max Length of body: \t299 characters\n",
      "Avg Length of body: \t49 characters\n",
      "Max words in body: \t61 words\n",
      "Avg words in body: \t8 words\n"
     ]
    }
   ],
   "source": [
    "# Stats for bodys\n",
    "num_of_bodys = len(df['body'])\n",
    "max_len_body = max([len(x) for x in df['body']])\n",
    "avg_len_body = int(np.mean([len(x) for x in df['body']]))\n",
    "max_word_count = max([len(x.split()) for x in df['body']])\n",
    "avg_word_count = int(np.mean([len(x.split()) for x in df['body']]))\n",
    "\n",
    "print('Number of bodys: \\t{0}'.format(num_of_bodys))\n",
    "print('Max Length of body: \\t{0} characters'.format(max_len_body))\n",
    "print('Avg Length of body: \\t{0} characters'.format(avg_len_body))\n",
    "print('Max words in body: \\t{0} words'.format(max_word_count))\n",
    "print('Avg words in body: \\t{0} words'.format(avg_word_count))\n"
   ]
  },
  {
   "cell_type": "code",
   "execution_count": 20,
   "metadata": {},
   "outputs": [
    {
     "name": "stdout",
     "output_type": "stream",
     "text": [
      "0 rows were deleted/removed (0.0 %)\n"
     ]
    }
   ],
   "source": [
    "length = len(df)\n",
    "df = df[df.body != '']\n",
    "df = df[df.body != '[deleted]']\n",
    "df = df[df.body != '[removed]']\n",
    "print(f'{length - len(df)} rows were deleted/removed ({round((length - len(df))/length * 100,2)} %)')\n",
    "\n",
    "\n",
    "df.reset_index(inplace=True, drop=True)"
   ]
  },
  {
   "cell_type": "code",
   "execution_count": 21,
   "metadata": {},
   "outputs": [
    {
     "name": "stdout",
     "output_type": "stream",
     "text": [
      "Upvotes mean: 4221.57\n",
      "Upvotes median: 891.50\n",
      "Upvotes standard deviation: 10835.71\n"
     ]
    }
   ],
   "source": [
    "print( \"Upvotes mean: %0.2f\" % (np.mean(df['ups'])))\n",
    "print( \"Upvotes median: %0.2f\" % (np.median(df['ups'])))\n",
    "print( \"Upvotes standard deviation: %0.2f\" % (np.std(df['ups'])))\n"
   ]
  },
  {
   "cell_type": "code",
   "execution_count": 22,
   "metadata": {},
   "outputs": [
    {
     "name": "stdout",
     "output_type": "stream",
     "text": [
      "Gilded mean: 0.06\n",
      "Gilded median: 0.00\n",
      "Gilded standard deviation: 0.33\n"
     ]
    }
   ],
   "source": [
    "print( \"Gilded mean: %0.2f\" % (np.mean(df['gilded'])))\n",
    "print( \"Gilded median: %0.2f\" % (np.median(df['gilded'])))\n",
    "print( \"Gilded standard deviation: %0.2f\" % (np.std(df['gilded'])))"
   ]
  },
  {
   "cell_type": "markdown",
   "metadata": {},
   "source": [
    "## Visualisation"
   ]
  },
  {
   "cell_type": "code",
   "execution_count": 23,
   "metadata": {},
   "outputs": [
    {
     "data": {
      "image/png": "[encoded data removed]",
      "text/plain": [
       "<Figure size 432x288 with 1 Axes>"
      ]
     },
     "metadata": {},
     "output_type": "display_data"
    }
   ],
   "source": [
    "sns.set_style(\"darkgrid\")\n",
    "sns.set_context(\"paper\")\n",
    "df['character_count'] = df['body'].map(lambda x : len(x))\n",
    "plt.hist(df['character_count'], bins=np.arange(1,2000,10), alpha=0.5, label=\"Character Lengths\");\n",
    "plt.title('Comment Lengths');\n",
    "plt.xlabel('Characters');\n",
    "plt.ylabel('Occurences');\n",
    "plt.grid(False);"
   ]
  },
  {
   "cell_type": "code",
   "execution_count": 24,
   "metadata": {},
   "outputs": [
    {
     "data": {
      "image/png": "[encoded data removed]",
      "text/plain": [
       "<Figure size 432x288 with 1 Axes>"
      ]
     },
     "metadata": {},
     "output_type": "display_data"
    }
   ],
   "source": [
    "plt.hist(df['character_count'], bins=np.arange(1,100,1), alpha=0.5, label=\"Character Lengths\");\n",
    "plt.title(' Comment Lengths (Zoom)');\n",
    "plt.xlabel('Characters');\n",
    "plt.ylabel('Occurences');\n",
    "ax = plt.gca()\n",
    "ax.xaxis.grid(False) "
   ]
  },
  {
   "cell_type": "markdown",
   "metadata": {},
   "source": [
    "First, we can look at the time that a comment is posted and see how that relates to its popularity."
   ]
  },
  {
   "cell_type": "code",
   "execution_count": 25,
   "metadata": {},
   "outputs": [
    {
     "data": {
      "image/png": "[encoded data removed]",
      "text/plain": [
       "<Figure size 432x288 with 1 Axes>"
      ]
     },
     "metadata": {},
     "output_type": "display_data"
    }
   ],
   "source": [
    "plt.scatter(df['created_utc'], df['ups']);\n",
    "plt.title('Time and Upvotes');\n",
    "plt.xlabel('Time (UTC)');\n",
    "plt.xticks(rotation = 45)\n",
    "plt.ylabel('Upvotes');\n",
    "plt.ylim(ymin=-0.1);\n",
    "ax = plt.gca();\n",
    "ax.xaxis.grid(False)"
   ]
  },
  {
   "cell_type": "code",
   "execution_count": 26,
   "metadata": {},
   "outputs": [
    {
     "data": {
      "image/png": "[encoded data removed]",
      "text/plain": [
       "<Figure size 432x288 with 1 Axes>"
      ]
     },
     "metadata": {},
     "output_type": "display_data"
    }
   ],
   "source": [
    "\n",
    "plt.scatter(df['character_count'], df['ups'], alpha=0.3);\n",
    "plt.ylim(ymin=-0.1);\n",
    "plt.xlim(xmin=-0.1);\n",
    "plt.title('Characters in a Comment and Upvotes');\n",
    "plt.xlabel('Characters');\n",
    "plt.ylabel('Upvotes');\n",
    "plt.grid(False)\n"
   ]
  },
  {
   "cell_type": "markdown",
   "metadata": {},
   "source": [
    "### Dependent variable"
   ]
  },
  {
   "cell_type": "code",
   "execution_count": 28,
   "metadata": {},
   "outputs": [
    {
     "data": {
      "text/html": [
       "<div>\n",
       "<style scoped>\n",
       "    .dataframe tbody tr th:only-of-type {\n",
       "        vertical-align: middle;\n",
       "    }\n",
       "\n",
       "    .dataframe tbody tr th {\n",
       "        vertical-align: top;\n",
       "    }\n",
       "\n",
       "    .dataframe thead th {\n",
       "        text-align: right;\n",
       "    }\n",
       "</style>\n",
       "<table border=\"1\" class=\"dataframe\">\n",
       "  <thead>\n",
       "    <tr style=\"text-align: right;\">\n",
       "      <th></th>\n",
       "      <th>body</th>\n",
       "      <th>created_utc</th>\n",
       "      <th>ups</th>\n",
       "      <th>downs</th>\n",
       "      <th>upvote_ratio</th>\n",
       "      <th>score</th>\n",
       "      <th>gilded</th>\n",
       "      <th>over_18</th>\n",
       "      <th>number_of_Comments</th>\n",
       "      <th>author</th>\n",
       "      <th>archived</th>\n",
       "      <th>edited</th>\n",
       "      <th>link_id</th>\n",
       "      <th>url</th>\n",
       "      <th>character_count</th>\n",
       "    </tr>\n",
       "  </thead>\n",
       "  <tbody>\n",
       "  </tbody>\n",
       "</table>\n",
       "</div>"
      ],
      "text/plain": [
       "Empty DataFrame\n",
       "Columns: [body, created_utc, ups, downs, upvote_ratio, score, gilded, over_18, number_of_Comments, author, archived, edited, link_id, url, character_count]\n",
       "Index: []"
      ]
     },
     "execution_count": 28,
     "metadata": {},
     "output_type": "execute_result"
    }
   ],
   "source": [
    "df[df['score']!=df['ups']]"
   ]
  },
  {
   "cell_type": "markdown",
   "metadata": {},
   "source": [
    "So , the dependent variable can be either be score or ups"
   ]
  },
  {
   "cell_type": "code",
   "execution_count": 29,
   "metadata": {},
   "outputs": [
    {
     "data": {
      "text/plain": [
       "<matplotlib.axes._subplots.AxesSubplot at 0x216a8bffc50>"
      ]
     },
     "execution_count": 29,
     "metadata": {},
     "output_type": "execute_result"
    },
    {
     "data": {
      "image/png": "[encoded data removed]",
      "text/plain": [
       "<Figure size 432x288 with 1 Axes>"
      ]
     },
     "metadata": {},
     "output_type": "display_data"
    }
   ],
   "source": [
    "sns.distplot(df[\"score\"])"
   ]
  },
  {
   "cell_type": "markdown",
   "metadata": {},
   "source": [
    "### InDependent variable -Body"
   ]
  },
  {
   "cell_type": "markdown",
   "metadata": {},
   "source": [
    "### Word Count"
   ]
  },
  {
   "cell_type": "code",
   "execution_count": 30,
   "metadata": {},
   "outputs": [],
   "source": [
    "def word_count(text):\n",
    "    wordList = re.sub(\"[^\\w]\", \" \",  text).split()\n",
    "    return len(wordList)\n",
    "\n",
    "df['word_count'] = df['body'].map(lambda x : word_count(x))"
   ]
  },
  {
   "cell_type": "code",
   "execution_count": 31,
   "metadata": {},
   "outputs": [
    {
     "data": {
      "image/png": "[encoded data removed]",
      "text/plain": [
       "<Figure size 432x288 with 1 Axes>"
      ]
     },
     "metadata": {},
     "output_type": "display_data"
    }
   ],
   "source": [
    "plt.scatter(df['word_count'], df['ups'], alpha=0.3);\n",
    "plt.title('Word Count and Upvotes');\n",
    "plt.xlabel('Word Count');\n",
    "plt.ylabel('Upvotes');\n",
    "plt.xlim(-0.1,2000);\n",
    "plt.ylim(ymin=-0.1);\n",
    "plt.grid(False)"
   ]
  },
  {
   "cell_type": "markdown",
   "metadata": {},
   "source": [
    "#### Word Cloud of Comments"
   ]
  },
  {
   "cell_type": "code",
   "execution_count": 32,
   "metadata": {},
   "outputs": [],
   "source": [
    "body_text = ' '.join(df['body'].str.lower())\n"
   ]
  },
  {
   "cell_type": "code",
   "execution_count": 33,
   "metadata": {},
   "outputs": [
    {
     "name": "stdout",
     "output_type": "stream",
     "text": [
      "[nltk_data] Downloading package stopwords to\n",
      "[nltk_data]     C:\\Users\\Keerthi\\AppData\\Roaming\\nltk_data...\n",
      "[nltk_data]   Package stopwords is already up-to-date!\n"
     ]
    }
   ],
   "source": [
    "nltk.download('stopwords')\n",
    "stop_words = set(stopwords.words('english'))\n",
    "stop_words.remove(\"not\")\n",
    "stop_words.remove(\"no\")\n"
   ]
  },
  {
   "cell_type": "code",
   "execution_count": 34,
   "metadata": {},
   "outputs": [
    {
     "data": {
      "image/png": "[encoded data removed]",
      "text/plain": [
       "<Figure size 720x720 with 1 Axes>"
      ]
     },
     "metadata": {},
     "output_type": "display_data"
    }
   ],
   "source": [
    "wordcloud = WordCloud(stopwords=stop_words, background_color=\"white\", max_words=1000).generate(body_text)\n",
    "rcParams['figure.figsize'] = 10, 10\n",
    "plt.imshow(wordcloud)\n",
    "plt.axis(\"off\")\n",
    "plt.show()"
   ]
  },
  {
   "cell_type": "markdown",
   "metadata": {},
   "source": [
    "#### Cleaning the comments "
   ]
  },
  {
   "cell_type": "markdown",
   "metadata": {},
   "source": [
    "\n",
    "Here is the list of operation we are going to execute:\n",
    "\n",
    "* We will keep stopwords: \"No, Not\" as it can be useful in sentiment analysis, in all cases TFIDF will detect them and we can keep them apart from our study.\n",
    "* Remove numbers, symbols and punctuations (except for comma, which will be removed later)\n",
    "* Replace URLs with URL token.\n",
    "\n",
    "We change body into a string variable:"
   ]
  },
  {
   "cell_type": "code",
   "execution_count": 35,
   "metadata": {},
   "outputs": [],
   "source": [
    "from nltk.tokenize import word_tokenize\n",
    "from nltk.stem import WordNetLemmatizer\n",
    "from nltk.stem import PorterStemmer\n",
    "\n",
    "\n",
    "#nltk.download('stopwords')\n",
    "stop_words = set(stopwords.words('english'))\n",
    "stop_words.remove(\"not\")\n",
    "stop_words.remove(\"no\")\n",
    "\n",
    "stemmer = PorterStemmer()\n",
    "lemmatizer = WordNetLemmatizer() \n",
    "\n",
    "def spaceURLs(df, column):\n",
    "    '''This method is used to enforce proper spacing\n",
    "    Ex: In the data, you may have '[the image](https://image.xyz)';\n",
    "    this method creates space between alt text (\"the image\") and the URL.'''\n",
    "    data = df.copy()\n",
    "    data.loc[:, column] = data[column].str.replace('\\[|\\]', ' ', regex=True)\n",
    "    return data\n",
    "\n",
    "def replaceURL(df, column):\n",
    "    data = df.copy()\n",
    "    data.loc[:, column] = data[column].str.replace('\\(http\\S+', 'URL', regex=True)\n",
    "    return data\n",
    "\n",
    "def removeSymbols(df, column):\n",
    "    data = df.copy()\n",
    "    data.loc[:, column] = data[column].str.replace('/r/', '', regex=True)\n",
    "    data.loc[:, column] = data[column].str.replace('[^\\.\\'A-Za-z0-9]+', ' ', regex=True)\n",
    "    return data\n",
    "\n",
    "def removeNumbers(df, column):\n",
    "    data = df.copy()\n",
    "    data.loc[:, column] = data[column].str.replace('\\S*\\d\\S*', '', regex=True)\n",
    "    return data\n"
   ]
  },
  {
   "cell_type": "code",
   "execution_count": 36,
   "metadata": {},
   "outputs": [],
   "source": [
    "# Remove stop words\n",
    "stop_words = stopwords.words('english')\n",
    "stop_words.extend([\"ca\",\"http\"])\n",
    "def no_stop_words(list_tokens):    \n",
    "    tokens_no_stop_word = []\n",
    "    for elt in list_tokens: \n",
    "        tokens_no_stop_word.append([tok for tok in elt if tok not in stop_words])\n",
    "    return(tokens_no_stop_word)"
   ]
  },
  {
   "cell_type": "code",
   "execution_count": 37,
   "metadata": {},
   "outputs": [],
   "source": [
    "data = spaceURLs(df, 'body')\n",
    "data = replaceURL(data, 'body')\n",
    "data = removeNumbers(data, 'body')\n",
    "data = removeSymbols(data, 'body')\n"
   ]
  },
  {
   "cell_type": "code",
   "execution_count": 38,
   "metadata": {},
   "outputs": [
    {
     "data": {
      "text/html": [
       "<div>\n",
       "<style scoped>\n",
       "    .dataframe tbody tr th:only-of-type {\n",
       "        vertical-align: middle;\n",
       "    }\n",
       "\n",
       "    .dataframe tbody tr th {\n",
       "        vertical-align: top;\n",
       "    }\n",
       "\n",
       "    .dataframe thead th {\n",
       "        text-align: right;\n",
       "    }\n",
       "</style>\n",
       "<table border=\"1\" class=\"dataframe\">\n",
       "  <thead>\n",
       "    <tr style=\"text-align: right;\">\n",
       "      <th></th>\n",
       "      <th>0</th>\n",
       "      <th>1</th>\n",
       "      <th>2</th>\n",
       "      <th>3</th>\n",
       "      <th>4</th>\n",
       "    </tr>\n",
       "  </thead>\n",
       "  <tbody>\n",
       "    <tr>\n",
       "      <th>body</th>\n",
       "      <td>I Can Feel The Rage</td>\n",
       "      <td>Zenith of the art form</td>\n",
       "      <td>Fox News McConnell believes Trump committed im...</td>\n",
       "      <td>'I'm not a magician' Lawyer for man pictured w...</td>\n",
       "      <td>A mother's reaction after seeing her son has p...</td>\n",
       "    </tr>\n",
       "    <tr>\n",
       "      <th>created_utc</th>\n",
       "      <td>2021-01-13 06:14:53</td>\n",
       "      <td>2021-01-13 05:54:34</td>\n",
       "      <td>2021-01-12 22:37:36</td>\n",
       "      <td>2021-01-12 15:21:59</td>\n",
       "      <td>2021-01-13 00:18:34</td>\n",
       "    </tr>\n",
       "    <tr>\n",
       "      <th>ups</th>\n",
       "      <td>21156</td>\n",
       "      <td>22020</td>\n",
       "      <td>30701</td>\n",
       "      <td>61881</td>\n",
       "      <td>108510</td>\n",
       "    </tr>\n",
       "    <tr>\n",
       "      <th>downs</th>\n",
       "      <td>0</td>\n",
       "      <td>0</td>\n",
       "      <td>0</td>\n",
       "      <td>0</td>\n",
       "      <td>0</td>\n",
       "    </tr>\n",
       "    <tr>\n",
       "      <th>upvote_ratio</th>\n",
       "      <td>0.94</td>\n",
       "      <td>0.98</td>\n",
       "      <td>0.77</td>\n",
       "      <td>0.91</td>\n",
       "      <td>0.84</td>\n",
       "    </tr>\n",
       "    <tr>\n",
       "      <th>score</th>\n",
       "      <td>21156</td>\n",
       "      <td>22020</td>\n",
       "      <td>30701</td>\n",
       "      <td>61881</td>\n",
       "      <td>108510</td>\n",
       "    </tr>\n",
       "    <tr>\n",
       "      <th>gilded</th>\n",
       "      <td>0</td>\n",
       "      <td>0</td>\n",
       "      <td>1</td>\n",
       "      <td>0</td>\n",
       "      <td>8</td>\n",
       "    </tr>\n",
       "    <tr>\n",
       "      <th>over_18</th>\n",
       "      <td>False</td>\n",
       "      <td>False</td>\n",
       "      <td>False</td>\n",
       "      <td>False</td>\n",
       "      <td>False</td>\n",
       "    </tr>\n",
       "    <tr>\n",
       "      <th>number_of_Comments</th>\n",
       "      <td>465</td>\n",
       "      <td>262</td>\n",
       "      <td>5185</td>\n",
       "      <td>4444</td>\n",
       "      <td>4154</td>\n",
       "    </tr>\n",
       "    <tr>\n",
       "      <th>author</th>\n",
       "      <td>Halzman</td>\n",
       "      <td>KevlarYarmulke</td>\n",
       "      <td>juicesalinas</td>\n",
       "      <td>ClaraWhoWastedAway</td>\n",
       "      <td>americanthaiguy</td>\n",
       "    </tr>\n",
       "    <tr>\n",
       "      <th>archived</th>\n",
       "      <td>False</td>\n",
       "      <td>False</td>\n",
       "      <td>False</td>\n",
       "      <td>False</td>\n",
       "      <td>False</td>\n",
       "    </tr>\n",
       "    <tr>\n",
       "      <th>edited</th>\n",
       "      <td>False</td>\n",
       "      <td>False</td>\n",
       "      <td>False</td>\n",
       "      <td>False</td>\n",
       "      <td>False</td>\n",
       "    </tr>\n",
       "    <tr>\n",
       "      <th>link_id</th>\n",
       "      <td>kwamfv</td>\n",
       "      <td>kwabye</td>\n",
       "      <td>kw2lq8</td>\n",
       "      <td>kvtnpt</td>\n",
       "      <td>kw4jwg</td>\n",
       "    </tr>\n",
       "    <tr>\n",
       "      <th>url</th>\n",
       "      <td>https://i.redd.it/o3y39kwlk1b61.jpg</td>\n",
       "      <td>https://i.imgur.com/f2YykGz.jpg</td>\n",
       "      <td>https://www.foxnews.com/politics/mcconnell-bel...</td>\n",
       "      <td>https://www.wtsp.com/article/news/crime/adam-j...</td>\n",
       "      <td>https://v.redd.it/7d89yzt8tza61</td>\n",
       "    </tr>\n",
       "    <tr>\n",
       "      <th>character_count</th>\n",
       "      <td>19</td>\n",
       "      <td>22</td>\n",
       "      <td>107</td>\n",
       "      <td>97</td>\n",
       "      <td>64</td>\n",
       "    </tr>\n",
       "    <tr>\n",
       "      <th>word_count</th>\n",
       "      <td>5</td>\n",
       "      <td>5</td>\n",
       "      <td>12</td>\n",
       "      <td>18</td>\n",
       "      <td>13</td>\n",
       "    </tr>\n",
       "  </tbody>\n",
       "</table>\n",
       "</div>"
      ],
      "text/plain": [
       "                                                      0  \\\n",
       "body                                I Can Feel The Rage   \n",
       "created_utc                         2021-01-13 06:14:53   \n",
       "ups                                               21156   \n",
       "downs                                                 0   \n",
       "upvote_ratio                                       0.94   \n",
       "score                                             21156   \n",
       "gilded                                                0   \n",
       "over_18                                           False   \n",
       "number_of_Comments                                  465   \n",
       "author                                          Halzman   \n",
       "archived                                          False   \n",
       "edited                                            False   \n",
       "link_id                                          kwamfv   \n",
       "url                 https://i.redd.it/o3y39kwlk1b61.jpg   \n",
       "character_count                                      19   \n",
       "word_count                                            5   \n",
       "\n",
       "                                                  1  \\\n",
       "body                         Zenith of the art form   \n",
       "created_utc                     2021-01-13 05:54:34   \n",
       "ups                                           22020   \n",
       "downs                                             0   \n",
       "upvote_ratio                                   0.98   \n",
       "score                                         22020   \n",
       "gilded                                            0   \n",
       "over_18                                       False   \n",
       "number_of_Comments                              262   \n",
       "author                               KevlarYarmulke   \n",
       "archived                                      False   \n",
       "edited                                        False   \n",
       "link_id                                      kwabye   \n",
       "url                 https://i.imgur.com/f2YykGz.jpg   \n",
       "character_count                                  22   \n",
       "word_count                                        5   \n",
       "\n",
       "                                                                    2  \\\n",
       "body                Fox News McConnell believes Trump committed im...   \n",
       "created_utc                                       2021-01-12 22:37:36   \n",
       "ups                                                             30701   \n",
       "downs                                                               0   \n",
       "upvote_ratio                                                     0.77   \n",
       "score                                                           30701   \n",
       "gilded                                                              1   \n",
       "over_18                                                         False   \n",
       "number_of_Comments                                               5185   \n",
       "author                                                   juicesalinas   \n",
       "archived                                                        False   \n",
       "edited                                                          False   \n",
       "link_id                                                        kw2lq8   \n",
       "url                 https://www.foxnews.com/politics/mcconnell-bel...   \n",
       "character_count                                                   107   \n",
       "word_count                                                         12   \n",
       "\n",
       "                                                                    3  \\\n",
       "body                'I'm not a magician' Lawyer for man pictured w...   \n",
       "created_utc                                       2021-01-12 15:21:59   \n",
       "ups                                                             61881   \n",
       "downs                                                               0   \n",
       "upvote_ratio                                                     0.91   \n",
       "score                                                           61881   \n",
       "gilded                                                              0   \n",
       "over_18                                                         False   \n",
       "number_of_Comments                                               4444   \n",
       "author                                             ClaraWhoWastedAway   \n",
       "archived                                                        False   \n",
       "edited                                                          False   \n",
       "link_id                                                        kvtnpt   \n",
       "url                 https://www.wtsp.com/article/news/crime/adam-j...   \n",
       "character_count                                                    97   \n",
       "word_count                                                         18   \n",
       "\n",
       "                                                                    4  \n",
       "body                A mother's reaction after seeing her son has p...  \n",
       "created_utc                                       2021-01-13 00:18:34  \n",
       "ups                                                            108510  \n",
       "downs                                                               0  \n",
       "upvote_ratio                                                     0.84  \n",
       "score                                                          108510  \n",
       "gilded                                                              8  \n",
       "over_18                                                         False  \n",
       "number_of_Comments                                               4154  \n",
       "author                                                americanthaiguy  \n",
       "archived                                                        False  \n",
       "edited                                                          False  \n",
       "link_id                                                        kw4jwg  \n",
       "url                                   https://v.redd.it/7d89yzt8tza61  \n",
       "character_count                                                    64  \n",
       "word_count                                                         13  "
      ]
     },
     "execution_count": 38,
     "metadata": {},
     "output_type": "execute_result"
    }
   ],
   "source": [
    "data.head().T"
   ]
  },
  {
   "cell_type": "code",
   "execution_count": 39,
   "metadata": {},
   "outputs": [],
   "source": [
    "df = data.copy()"
   ]
  },
  {
   "cell_type": "markdown",
   "metadata": {},
   "source": [
    "### Sentimental Analaysis -- Assigning Polarity to the BODY"
   ]
  },
  {
   "cell_type": "code",
   "execution_count": 40,
   "metadata": {},
   "outputs": [],
   "source": [
    "def get_subjectivity(df):\n",
    "    df['subjectivity'] = df['body'].str.count('I ')\n",
    "    print(f\"We found {sum(df.subjectivity)} I's in comments.\")\n",
    "    return(df)"
   ]
  },
  {
   "cell_type": "code",
   "execution_count": 41,
   "metadata": {},
   "outputs": [
    {
     "name": "stdout",
     "output_type": "stream",
     "text": [
      "We found 1095 I's in comments.\n"
     ]
    }
   ],
   "source": [
    "df = get_subjectivity(df)"
   ]
  },
  {
   "cell_type": "code",
   "execution_count": 42,
   "metadata": {},
   "outputs": [],
   "source": [
    "\n",
    "def get_exclamation(df):\n",
    "    df['exclamation'] = df['body'].str.count('!')\n",
    "    print(f\"We found {sum(df.exclamation)} exclamation marks in all comments.\")\n",
    "    return(df)"
   ]
  },
  {
   "cell_type": "code",
   "execution_count": 43,
   "metadata": {},
   "outputs": [
    {
     "name": "stdout",
     "output_type": "stream",
     "text": [
      "We found 0 exclamation marks in all comments.\n"
     ]
    }
   ],
   "source": [
    "df = get_exclamation(df)"
   ]
  },
  {
   "cell_type": "code",
   "execution_count": 44,
   "metadata": {},
   "outputs": [],
   "source": [
    "# Create a function to get the subjectivity\n",
    "def Subjectivity(text):\n",
    "       return TextBlob(text).sentiment.subjectivity\n",
    "\n",
    "# Create a function to get the polarity\n",
    "def Polarity(text):\n",
    "      return  TextBlob(text).sentiment.polarity"
   ]
  },
  {
   "cell_type": "code",
   "execution_count": 45,
   "metadata": {},
   "outputs": [],
   "source": [
    "df['Subjectivity'] =data['body'].apply(Subjectivity)\n",
    "df['Polarity'] =data['body'].apply(Polarity)"
   ]
  },
  {
   "cell_type": "code",
   "execution_count": 46,
   "metadata": {},
   "outputs": [],
   "source": [
    "senti = SentimentIntensityAnalyzer()\n",
    "for sentence in df['body']:\n",
    "    ss = senti.polarity_scores(sentence)"
   ]
  },
  {
   "cell_type": "code",
   "execution_count": 47,
   "metadata": {},
   "outputs": [],
   "source": [
    "pickle.dump(senti, open('senti.pkl','wb'))"
   ]
  },
  {
   "cell_type": "code",
   "execution_count": 48,
   "metadata": {},
   "outputs": [],
   "source": [
    "#analyzer = SentimentIntensityAnalyzer()\n",
    "df['rating'] = df['body'].apply(senti.polarity_scores)\n"
   ]
  },
  {
   "cell_type": "code",
   "execution_count": 49,
   "metadata": {},
   "outputs": [],
   "source": [
    "df = pd.concat([df.drop(['rating'], axis=1), df['rating'].apply(pd.Series)], axis=1)"
   ]
  },
  {
   "cell_type": "code",
   "execution_count": 50,
   "metadata": {},
   "outputs": [
    {
     "data": {
      "text/html": [
       "<div>\n",
       "<style scoped>\n",
       "    .dataframe tbody tr th:only-of-type {\n",
       "        vertical-align: middle;\n",
       "    }\n",
       "\n",
       "    .dataframe tbody tr th {\n",
       "        vertical-align: top;\n",
       "    }\n",
       "\n",
       "    .dataframe thead th {\n",
       "        text-align: right;\n",
       "    }\n",
       "</style>\n",
       "<table border=\"1\" class=\"dataframe\">\n",
       "  <thead>\n",
       "    <tr style=\"text-align: right;\">\n",
       "      <th></th>\n",
       "      <th>body</th>\n",
       "      <th>created_utc</th>\n",
       "      <th>ups</th>\n",
       "      <th>downs</th>\n",
       "      <th>upvote_ratio</th>\n",
       "      <th>score</th>\n",
       "      <th>gilded</th>\n",
       "      <th>over_18</th>\n",
       "      <th>number_of_Comments</th>\n",
       "      <th>author</th>\n",
       "      <th>...</th>\n",
       "      <th>character_count</th>\n",
       "      <th>word_count</th>\n",
       "      <th>subjectivity</th>\n",
       "      <th>exclamation</th>\n",
       "      <th>Subjectivity</th>\n",
       "      <th>Polarity</th>\n",
       "      <th>neg</th>\n",
       "      <th>neu</th>\n",
       "      <th>pos</th>\n",
       "      <th>compound</th>\n",
       "    </tr>\n",
       "  </thead>\n",
       "  <tbody>\n",
       "    <tr>\n",
       "      <th>0</th>\n",
       "      <td>I Can Feel The Rage</td>\n",
       "      <td>2021-01-13 06:14:53</td>\n",
       "      <td>21156</td>\n",
       "      <td>0</td>\n",
       "      <td>0.94</td>\n",
       "      <td>21156</td>\n",
       "      <td>0</td>\n",
       "      <td>False</td>\n",
       "      <td>465</td>\n",
       "      <td>Halzman</td>\n",
       "      <td>...</td>\n",
       "      <td>19</td>\n",
       "      <td>5</td>\n",
       "      <td>1</td>\n",
       "      <td>0</td>\n",
       "      <td>0.0</td>\n",
       "      <td>0.0</td>\n",
       "      <td>0.474</td>\n",
       "      <td>0.526</td>\n",
       "      <td>0.0</td>\n",
       "      <td>-0.5574</td>\n",
       "    </tr>\n",
       "  </tbody>\n",
       "</table>\n",
       "<p>1 rows × 24 columns</p>\n",
       "</div>"
      ],
      "text/plain": [
       "                  body         created_utc    ups  downs  upvote_ratio  score  \\\n",
       "0  I Can Feel The Rage 2021-01-13 06:14:53  21156      0          0.94  21156   \n",
       "\n",
       "   gilded  over_18  number_of_Comments   author  ...  character_count  \\\n",
       "0       0    False                 465  Halzman  ...               19   \n",
       "\n",
       "  word_count subjectivity exclamation  Subjectivity  Polarity    neg    neu  \\\n",
       "0          5            1           0           0.0       0.0  0.474  0.526   \n",
       "\n",
       "   pos  compound  \n",
       "0  0.0   -0.5574  \n",
       "\n",
       "[1 rows x 24 columns]"
      ]
     },
     "execution_count": 50,
     "metadata": {},
     "output_type": "execute_result"
    }
   ],
   "source": [
    "df.head(1)"
   ]
  },
  {
   "cell_type": "code",
   "execution_count": 51,
   "metadata": {},
   "outputs": [],
   "source": [
    "# data preprocessing\n",
    "from sklearn.feature_extraction.text import ENGLISH_STOP_WORDS\n",
    "import re\n",
    "import nltk\n",
    "from nltk.stem import WordNetLemmatizer,PorterStemmer\n",
    "lemmatizer = WordNetLemmatizer()\n",
    "stemmer = PorterStemmer()\n",
    "\n",
    "def text_preprocess(text):\n",
    "    text = re.sub(r'[^\\w\\s]', '', text) \n",
    "    l_text = [word for word in text.lower().split() if word not in ENGLISH_STOP_WORDS]\n",
    "    stem_words = [stemmer.stem(w) for w in l_text]\n",
    "    lemma_words = [lemmatizer.lemmatize(w) for w in l_text]\n",
    "\n",
    "    return \" \".join(lemma_words)\n",
    "\n",
    "df['body'] = df['body'].map(lambda com : text_preprocess(com))"
   ]
  },
  {
   "cell_type": "code",
   "execution_count": 52,
   "metadata": {},
   "outputs": [
    {
     "data": {
      "text/html": [
       "<div>\n",
       "<style scoped>\n",
       "    .dataframe tbody tr th:only-of-type {\n",
       "        vertical-align: middle;\n",
       "    }\n",
       "\n",
       "    .dataframe tbody tr th {\n",
       "        vertical-align: top;\n",
       "    }\n",
       "\n",
       "    .dataframe thead th {\n",
       "        text-align: right;\n",
       "    }\n",
       "</style>\n",
       "<table border=\"1\" class=\"dataframe\">\n",
       "  <thead>\n",
       "    <tr style=\"text-align: right;\">\n",
       "      <th></th>\n",
       "      <th>0</th>\n",
       "      <th>1</th>\n",
       "      <th>2</th>\n",
       "      <th>3</th>\n",
       "      <th>4</th>\n",
       "    </tr>\n",
       "  </thead>\n",
       "  <tbody>\n",
       "    <tr>\n",
       "      <th>body</th>\n",
       "      <td>feel rage</td>\n",
       "      <td>zenith art form</td>\n",
       "      <td>fox news mcconnell belief trump committed impe...</td>\n",
       "      <td>im magician lawyer man pictured lectern capito...</td>\n",
       "      <td>mother reaction seeing son passed bar exam</td>\n",
       "    </tr>\n",
       "    <tr>\n",
       "      <th>created_utc</th>\n",
       "      <td>2021-01-13 06:14:53</td>\n",
       "      <td>2021-01-13 05:54:34</td>\n",
       "      <td>2021-01-12 22:37:36</td>\n",
       "      <td>2021-01-12 15:21:59</td>\n",
       "      <td>2021-01-13 00:18:34</td>\n",
       "    </tr>\n",
       "    <tr>\n",
       "      <th>ups</th>\n",
       "      <td>21156</td>\n",
       "      <td>22020</td>\n",
       "      <td>30701</td>\n",
       "      <td>61881</td>\n",
       "      <td>108510</td>\n",
       "    </tr>\n",
       "    <tr>\n",
       "      <th>downs</th>\n",
       "      <td>0</td>\n",
       "      <td>0</td>\n",
       "      <td>0</td>\n",
       "      <td>0</td>\n",
       "      <td>0</td>\n",
       "    </tr>\n",
       "    <tr>\n",
       "      <th>upvote_ratio</th>\n",
       "      <td>0.94</td>\n",
       "      <td>0.98</td>\n",
       "      <td>0.77</td>\n",
       "      <td>0.91</td>\n",
       "      <td>0.84</td>\n",
       "    </tr>\n",
       "    <tr>\n",
       "      <th>score</th>\n",
       "      <td>21156</td>\n",
       "      <td>22020</td>\n",
       "      <td>30701</td>\n",
       "      <td>61881</td>\n",
       "      <td>108510</td>\n",
       "    </tr>\n",
       "    <tr>\n",
       "      <th>gilded</th>\n",
       "      <td>0</td>\n",
       "      <td>0</td>\n",
       "      <td>1</td>\n",
       "      <td>0</td>\n",
       "      <td>8</td>\n",
       "    </tr>\n",
       "    <tr>\n",
       "      <th>over_18</th>\n",
       "      <td>False</td>\n",
       "      <td>False</td>\n",
       "      <td>False</td>\n",
       "      <td>False</td>\n",
       "      <td>False</td>\n",
       "    </tr>\n",
       "    <tr>\n",
       "      <th>number_of_Comments</th>\n",
       "      <td>465</td>\n",
       "      <td>262</td>\n",
       "      <td>5185</td>\n",
       "      <td>4444</td>\n",
       "      <td>4154</td>\n",
       "    </tr>\n",
       "    <tr>\n",
       "      <th>author</th>\n",
       "      <td>Halzman</td>\n",
       "      <td>KevlarYarmulke</td>\n",
       "      <td>juicesalinas</td>\n",
       "      <td>ClaraWhoWastedAway</td>\n",
       "      <td>americanthaiguy</td>\n",
       "    </tr>\n",
       "    <tr>\n",
       "      <th>archived</th>\n",
       "      <td>False</td>\n",
       "      <td>False</td>\n",
       "      <td>False</td>\n",
       "      <td>False</td>\n",
       "      <td>False</td>\n",
       "    </tr>\n",
       "    <tr>\n",
       "      <th>edited</th>\n",
       "      <td>False</td>\n",
       "      <td>False</td>\n",
       "      <td>False</td>\n",
       "      <td>False</td>\n",
       "      <td>False</td>\n",
       "    </tr>\n",
       "    <tr>\n",
       "      <th>link_id</th>\n",
       "      <td>kwamfv</td>\n",
       "      <td>kwabye</td>\n",
       "      <td>kw2lq8</td>\n",
       "      <td>kvtnpt</td>\n",
       "      <td>kw4jwg</td>\n",
       "    </tr>\n",
       "    <tr>\n",
       "      <th>url</th>\n",
       "      <td>https://i.redd.it/o3y39kwlk1b61.jpg</td>\n",
       "      <td>https://i.imgur.com/f2YykGz.jpg</td>\n",
       "      <td>https://www.foxnews.com/politics/mcconnell-bel...</td>\n",
       "      <td>https://www.wtsp.com/article/news/crime/adam-j...</td>\n",
       "      <td>https://v.redd.it/7d89yzt8tza61</td>\n",
       "    </tr>\n",
       "    <tr>\n",
       "      <th>character_count</th>\n",
       "      <td>19</td>\n",
       "      <td>22</td>\n",
       "      <td>107</td>\n",
       "      <td>97</td>\n",
       "      <td>64</td>\n",
       "    </tr>\n",
       "    <tr>\n",
       "      <th>word_count</th>\n",
       "      <td>5</td>\n",
       "      <td>5</td>\n",
       "      <td>12</td>\n",
       "      <td>18</td>\n",
       "      <td>13</td>\n",
       "    </tr>\n",
       "    <tr>\n",
       "      <th>subjectivity</th>\n",
       "      <td>1</td>\n",
       "      <td>0</td>\n",
       "      <td>0</td>\n",
       "      <td>0</td>\n",
       "      <td>0</td>\n",
       "    </tr>\n",
       "    <tr>\n",
       "      <th>exclamation</th>\n",
       "      <td>0</td>\n",
       "      <td>0</td>\n",
       "      <td>0</td>\n",
       "      <td>0</td>\n",
       "      <td>0</td>\n",
       "    </tr>\n",
       "    <tr>\n",
       "      <th>Subjectivity</th>\n",
       "      <td>0</td>\n",
       "      <td>0</td>\n",
       "      <td>0</td>\n",
       "      <td>0</td>\n",
       "      <td>0</td>\n",
       "    </tr>\n",
       "    <tr>\n",
       "      <th>Polarity</th>\n",
       "      <td>0</td>\n",
       "      <td>0</td>\n",
       "      <td>0</td>\n",
       "      <td>0</td>\n",
       "      <td>0</td>\n",
       "    </tr>\n",
       "    <tr>\n",
       "      <th>neg</th>\n",
       "      <td>0.474</td>\n",
       "      <td>0</td>\n",
       "      <td>0.155</td>\n",
       "      <td>0.296</td>\n",
       "      <td>0</td>\n",
       "    </tr>\n",
       "    <tr>\n",
       "      <th>neu</th>\n",
       "      <td>0.526</td>\n",
       "      <td>1</td>\n",
       "      <td>0.559</td>\n",
       "      <td>0.704</td>\n",
       "      <td>1</td>\n",
       "    </tr>\n",
       "    <tr>\n",
       "      <th>pos</th>\n",
       "      <td>0</td>\n",
       "      <td>0</td>\n",
       "      <td>0.286</td>\n",
       "      <td>0</td>\n",
       "      <td>0</td>\n",
       "    </tr>\n",
       "    <tr>\n",
       "      <th>compound</th>\n",
       "      <td>-0.5574</td>\n",
       "      <td>0</td>\n",
       "      <td>0.2732</td>\n",
       "      <td>-0.743</td>\n",
       "      <td>0</td>\n",
       "    </tr>\n",
       "  </tbody>\n",
       "</table>\n",
       "</div>"
      ],
      "text/plain": [
       "                                                      0  \\\n",
       "body                                          feel rage   \n",
       "created_utc                         2021-01-13 06:14:53   \n",
       "ups                                               21156   \n",
       "downs                                                 0   \n",
       "upvote_ratio                                       0.94   \n",
       "score                                             21156   \n",
       "gilded                                                0   \n",
       "over_18                                           False   \n",
       "number_of_Comments                                  465   \n",
       "author                                          Halzman   \n",
       "archived                                          False   \n",
       "edited                                            False   \n",
       "link_id                                          kwamfv   \n",
       "url                 https://i.redd.it/o3y39kwlk1b61.jpg   \n",
       "character_count                                      19   \n",
       "word_count                                            5   \n",
       "subjectivity                                          1   \n",
       "exclamation                                           0   \n",
       "Subjectivity                                          0   \n",
       "Polarity                                              0   \n",
       "neg                                               0.474   \n",
       "neu                                               0.526   \n",
       "pos                                                   0   \n",
       "compound                                        -0.5574   \n",
       "\n",
       "                                                  1  \\\n",
       "body                                zenith art form   \n",
       "created_utc                     2021-01-13 05:54:34   \n",
       "ups                                           22020   \n",
       "downs                                             0   \n",
       "upvote_ratio                                   0.98   \n",
       "score                                         22020   \n",
       "gilded                                            0   \n",
       "over_18                                       False   \n",
       "number_of_Comments                              262   \n",
       "author                               KevlarYarmulke   \n",
       "archived                                      False   \n",
       "edited                                        False   \n",
       "link_id                                      kwabye   \n",
       "url                 https://i.imgur.com/f2YykGz.jpg   \n",
       "character_count                                  22   \n",
       "word_count                                        5   \n",
       "subjectivity                                      0   \n",
       "exclamation                                       0   \n",
       "Subjectivity                                      0   \n",
       "Polarity                                          0   \n",
       "neg                                               0   \n",
       "neu                                               1   \n",
       "pos                                               0   \n",
       "compound                                          0   \n",
       "\n",
       "                                                                    2  \\\n",
       "body                fox news mcconnell belief trump committed impe...   \n",
       "created_utc                                       2021-01-12 22:37:36   \n",
       "ups                                                             30701   \n",
       "downs                                                               0   \n",
       "upvote_ratio                                                     0.77   \n",
       "score                                                           30701   \n",
       "gilded                                                              1   \n",
       "over_18                                                         False   \n",
       "number_of_Comments                                               5185   \n",
       "author                                                   juicesalinas   \n",
       "archived                                                        False   \n",
       "edited                                                          False   \n",
       "link_id                                                        kw2lq8   \n",
       "url                 https://www.foxnews.com/politics/mcconnell-bel...   \n",
       "character_count                                                   107   \n",
       "word_count                                                         12   \n",
       "subjectivity                                                        0   \n",
       "exclamation                                                         0   \n",
       "Subjectivity                                                        0   \n",
       "Polarity                                                            0   \n",
       "neg                                                             0.155   \n",
       "neu                                                             0.559   \n",
       "pos                                                             0.286   \n",
       "compound                                                       0.2732   \n",
       "\n",
       "                                                                    3  \\\n",
       "body                im magician lawyer man pictured lectern capito...   \n",
       "created_utc                                       2021-01-12 15:21:59   \n",
       "ups                                                             61881   \n",
       "downs                                                               0   \n",
       "upvote_ratio                                                     0.91   \n",
       "score                                                           61881   \n",
       "gilded                                                              0   \n",
       "over_18                                                         False   \n",
       "number_of_Comments                                               4444   \n",
       "author                                             ClaraWhoWastedAway   \n",
       "archived                                                        False   \n",
       "edited                                                          False   \n",
       "link_id                                                        kvtnpt   \n",
       "url                 https://www.wtsp.com/article/news/crime/adam-j...   \n",
       "character_count                                                    97   \n",
       "word_count                                                         18   \n",
       "subjectivity                                                        0   \n",
       "exclamation                                                         0   \n",
       "Subjectivity                                                        0   \n",
       "Polarity                                                            0   \n",
       "neg                                                             0.296   \n",
       "neu                                                             0.704   \n",
       "pos                                                                 0   \n",
       "compound                                                       -0.743   \n",
       "\n",
       "                                                             4  \n",
       "body                mother reaction seeing son passed bar exam  \n",
       "created_utc                                2021-01-13 00:18:34  \n",
       "ups                                                     108510  \n",
       "downs                                                        0  \n",
       "upvote_ratio                                              0.84  \n",
       "score                                                   108510  \n",
       "gilded                                                       8  \n",
       "over_18                                                  False  \n",
       "number_of_Comments                                        4154  \n",
       "author                                         americanthaiguy  \n",
       "archived                                                 False  \n",
       "edited                                                   False  \n",
       "link_id                                                 kw4jwg  \n",
       "url                            https://v.redd.it/7d89yzt8tza61  \n",
       "character_count                                             64  \n",
       "word_count                                                  13  \n",
       "subjectivity                                                 0  \n",
       "exclamation                                                  0  \n",
       "Subjectivity                                                 0  \n",
       "Polarity                                                     0  \n",
       "neg                                                          0  \n",
       "neu                                                          1  \n",
       "pos                                                          0  \n",
       "compound                                                     0  "
      ]
     },
     "execution_count": 52,
     "metadata": {},
     "output_type": "execute_result"
    }
   ],
   "source": [
    "df.head().T"
   ]
  },
  {
   "cell_type": "code",
   "execution_count": 53,
   "metadata": {},
   "outputs": [],
   "source": [
    "df.reset_index(inplace=True, drop=True)"
   ]
  },
  {
   "cell_type": "code",
   "execution_count": 54,
   "metadata": {},
   "outputs": [
    {
     "data": {
      "text/plain": [
       "Index(['body', 'created_utc', 'ups', 'downs', 'upvote_ratio', 'score',\n",
       "       'gilded', 'over_18', 'number_of_Comments', 'author', 'archived',\n",
       "       'edited', 'link_id', 'url', 'character_count', 'word_count',\n",
       "       'subjectivity', 'exclamation', 'Subjectivity', 'Polarity', 'neg', 'neu',\n",
       "       'pos', 'compound'],\n",
       "      dtype='object')"
      ]
     },
     "execution_count": 54,
     "metadata": {},
     "output_type": "execute_result"
    }
   ],
   "source": [
    "df.columns"
   ]
  },
  {
   "cell_type": "markdown",
   "metadata": {},
   "source": [
    "to check by deleting : downs,upvote_ratio\n",
    "deleted -Subjectivity"
   ]
  },
  {
   "cell_type": "code",
   "execution_count": 56,
   "metadata": {},
   "outputs": [],
   "source": [
    "df.drop(['created_utc','ups','author','archived','edited','link_id','url','subjectivity','character_count','exclamation'], axis=1, inplace=True) "
   ]
  },
  {
   "cell_type": "code",
   "execution_count": 57,
   "metadata": {},
   "outputs": [
    {
     "data": {
      "text/plain": [
       "Index(['body', 'downs', 'upvote_ratio', 'score', 'gilded', 'over_18',\n",
       "       'number_of_Comments', 'word_count', 'Subjectivity', 'Polarity', 'neg',\n",
       "       'neu', 'pos', 'compound'],\n",
       "      dtype='object')"
      ]
     },
     "execution_count": 57,
     "metadata": {},
     "output_type": "execute_result"
    }
   ],
   "source": [
    "df.columns"
   ]
  },
  {
   "cell_type": "markdown",
   "metadata": {},
   "source": [
    "### Spliting Data into Train and test"
   ]
  },
  {
   "cell_type": "code",
   "execution_count": 58,
   "metadata": {},
   "outputs": [],
   "source": [
    "X= df.drop(['score'], axis=1)\n",
    "y = df['score']"
   ]
  },
  {
   "cell_type": "code",
   "execution_count": 59,
   "metadata": {},
   "outputs": [],
   "source": [
    "X_train, X_test, y_train, y_test = train_test_split(X, y, test_size=0.30, random_state=42)\n"
   ]
  },
  {
   "cell_type": "code",
   "execution_count": 60,
   "metadata": {},
   "outputs": [
    {
     "data": {
      "text/plain": [
       "Index(['body', 'downs', 'upvote_ratio', 'gilded', 'over_18',\n",
       "       'number_of_Comments', 'word_count', 'Subjectivity', 'Polarity', 'neg',\n",
       "       'neu', 'pos', 'compound'],\n",
       "      dtype='object')"
      ]
     },
     "execution_count": 60,
     "metadata": {},
     "output_type": "execute_result"
    }
   ],
   "source": [
    "X_train.columns"
   ]
  },
  {
   "cell_type": "code",
   "execution_count": 61,
   "metadata": {},
   "outputs": [
    {
     "data": {
      "text/html": [
       "<div>\n",
       "<style scoped>\n",
       "    .dataframe tbody tr th:only-of-type {\n",
       "        vertical-align: middle;\n",
       "    }\n",
       "\n",
       "    .dataframe tbody tr th {\n",
       "        vertical-align: top;\n",
       "    }\n",
       "\n",
       "    .dataframe thead th {\n",
       "        text-align: right;\n",
       "    }\n",
       "</style>\n",
       "<table border=\"1\" class=\"dataframe\">\n",
       "  <thead>\n",
       "    <tr style=\"text-align: right;\">\n",
       "      <th></th>\n",
       "      <th>body</th>\n",
       "      <th>downs</th>\n",
       "      <th>upvote_ratio</th>\n",
       "      <th>gilded</th>\n",
       "      <th>over_18</th>\n",
       "      <th>number_of_Comments</th>\n",
       "      <th>word_count</th>\n",
       "      <th>Subjectivity</th>\n",
       "      <th>Polarity</th>\n",
       "      <th>neg</th>\n",
       "      <th>neu</th>\n",
       "      <th>pos</th>\n",
       "      <th>compound</th>\n",
       "    </tr>\n",
       "  </thead>\n",
       "  <tbody>\n",
       "    <tr>\n",
       "      <th>7409</th>\n",
       "      <td>chuck norris forced deny capitol riot lookalik...</td>\n",
       "      <td>0</td>\n",
       "      <td>0.98</td>\n",
       "      <td>0</td>\n",
       "      <td>False</td>\n",
       "      <td>59</td>\n",
       "      <td>16</td>\n",
       "      <td>0.200000</td>\n",
       "      <td>-0.300000</td>\n",
       "      <td>0.420</td>\n",
       "      <td>0.580</td>\n",
       "      <td>0.000</td>\n",
       "      <td>-0.8271</td>\n",
       "    </tr>\n",
       "    <tr>\n",
       "      <th>151</th>\n",
       "      <td>slpt quickly heat bath</td>\n",
       "      <td>0</td>\n",
       "      <td>0.97</td>\n",
       "      <td>0</td>\n",
       "      <td>False</td>\n",
       "      <td>46</td>\n",
       "      <td>6</td>\n",
       "      <td>0.500000</td>\n",
       "      <td>0.333333</td>\n",
       "      <td>0.000</td>\n",
       "      <td>1.000</td>\n",
       "      <td>0.000</td>\n",
       "      <td>0.0000</td>\n",
       "    </tr>\n",
       "    <tr>\n",
       "      <th>915</th>\n",
       "      <td>finale canada drag race ilona verley spirit me...</td>\n",
       "      <td>0</td>\n",
       "      <td>0.97</td>\n",
       "      <td>0</td>\n",
       "      <td>False</td>\n",
       "      <td>18</td>\n",
       "      <td>39</td>\n",
       "      <td>0.124167</td>\n",
       "      <td>0.040000</td>\n",
       "      <td>0.184</td>\n",
       "      <td>0.713</td>\n",
       "      <td>0.104</td>\n",
       "      <td>-0.5719</td>\n",
       "    </tr>\n",
       "    <tr>\n",
       "      <th>1305</th>\n",
       "      <td>chernobyl s finest</td>\n",
       "      <td>0</td>\n",
       "      <td>0.97</td>\n",
       "      <td>0</td>\n",
       "      <td>False</td>\n",
       "      <td>127</td>\n",
       "      <td>3</td>\n",
       "      <td>0.000000</td>\n",
       "      <td>0.000000</td>\n",
       "      <td>0.000</td>\n",
       "      <td>1.000</td>\n",
       "      <td>0.000</td>\n",
       "      <td>0.0000</td>\n",
       "    </tr>\n",
       "    <tr>\n",
       "      <th>4174</th>\n",
       "      <td>depression hotline</td>\n",
       "      <td>0</td>\n",
       "      <td>0.98</td>\n",
       "      <td>0</td>\n",
       "      <td>False</td>\n",
       "      <td>15</td>\n",
       "      <td>2</td>\n",
       "      <td>0.000000</td>\n",
       "      <td>0.000000</td>\n",
       "      <td>0.787</td>\n",
       "      <td>0.213</td>\n",
       "      <td>0.000</td>\n",
       "      <td>-0.5719</td>\n",
       "    </tr>\n",
       "  </tbody>\n",
       "</table>\n",
       "</div>"
      ],
      "text/plain": [
       "                                                   body  downs  upvote_ratio  \\\n",
       "7409  chuck norris forced deny capitol riot lookalik...      0          0.98   \n",
       "151                              slpt quickly heat bath      0          0.97   \n",
       "915   finale canada drag race ilona verley spirit me...      0          0.97   \n",
       "1305                                 chernobyl s finest      0          0.97   \n",
       "4174                                 depression hotline      0          0.98   \n",
       "\n",
       "      gilded  over_18  number_of_Comments  word_count  Subjectivity  Polarity  \\\n",
       "7409       0    False                  59          16      0.200000 -0.300000   \n",
       "151        0    False                  46           6      0.500000  0.333333   \n",
       "915        0    False                  18          39      0.124167  0.040000   \n",
       "1305       0    False                 127           3      0.000000  0.000000   \n",
       "4174       0    False                  15           2      0.000000  0.000000   \n",
       "\n",
       "        neg    neu    pos  compound  \n",
       "7409  0.420  0.580  0.000   -0.8271  \n",
       "151   0.000  1.000  0.000    0.0000  \n",
       "915   0.184  0.713  0.104   -0.5719  \n",
       "1305  0.000  1.000  0.000    0.0000  \n",
       "4174  0.787  0.213  0.000   -0.5719  "
      ]
     },
     "execution_count": 61,
     "metadata": {},
     "output_type": "execute_result"
    }
   ],
   "source": [
    "X_train.head()"
   ]
  },
  {
   "cell_type": "code",
   "execution_count": 62,
   "metadata": {},
   "outputs": [
    {
     "data": {
      "text/plain": [
       "body                  0\n",
       "downs                 0\n",
       "upvote_ratio          0\n",
       "gilded                0\n",
       "over_18               0\n",
       "number_of_Comments    0\n",
       "word_count            0\n",
       "Subjectivity          0\n",
       "Polarity              0\n",
       "neg                   0\n",
       "neu                   0\n",
       "pos                   0\n",
       "compound              0\n",
       "dtype: int64"
      ]
     },
     "execution_count": 62,
     "metadata": {},
     "output_type": "execute_result"
    }
   ],
   "source": [
    "X_train.isna().sum()"
   ]
  },
  {
   "cell_type": "markdown",
   "metadata": {},
   "source": [
    "### One Hot Encoding for Categorical variables "
   ]
  },
  {
   "cell_type": "code",
   "execution_count": 63,
   "metadata": {},
   "outputs": [],
   "source": [
    "categories = ['over_18']\n",
    "ohe = OneHotEncoder(handle_unknown='ignore')\n",
    "ohe.fit(X_train[categories])\n",
    "pickle.dump(ohe, open('one_hot.pkl','wb'))\n",
    "col_names = [j for sub in ohe.categories_ for j in sub]"
   ]
  },
  {
   "cell_type": "code",
   "execution_count": 64,
   "metadata": {},
   "outputs": [],
   "source": [
    "train_encoded = ohe.transform(X_train[categories])\n",
    "test_encoded = ohe.transform(X_test[categories])"
   ]
  },
  {
   "cell_type": "code",
   "execution_count": 65,
   "metadata": {},
   "outputs": [],
   "source": [
    "train_ohe = pd.DataFrame(train_encoded.todense(), columns=col_names)\n",
    "test_ohe = pd.DataFrame(test_encoded.todense(), columns=col_names)"
   ]
  },
  {
   "cell_type": "code",
   "execution_count": 66,
   "metadata": {},
   "outputs": [
    {
     "data": {
      "text/html": [
       "<div>\n",
       "<style scoped>\n",
       "    .dataframe tbody tr th:only-of-type {\n",
       "        vertical-align: middle;\n",
       "    }\n",
       "\n",
       "    .dataframe tbody tr th {\n",
       "        vertical-align: top;\n",
       "    }\n",
       "\n",
       "    .dataframe thead th {\n",
       "        text-align: right;\n",
       "    }\n",
       "</style>\n",
       "<table border=\"1\" class=\"dataframe\">\n",
       "  <thead>\n",
       "    <tr style=\"text-align: right;\">\n",
       "      <th></th>\n",
       "      <th>False</th>\n",
       "      <th>True</th>\n",
       "    </tr>\n",
       "  </thead>\n",
       "  <tbody>\n",
       "    <tr>\n",
       "      <th>0</th>\n",
       "      <td>1.0</td>\n",
       "      <td>0.0</td>\n",
       "    </tr>\n",
       "    <tr>\n",
       "      <th>1</th>\n",
       "      <td>1.0</td>\n",
       "      <td>0.0</td>\n",
       "    </tr>\n",
       "    <tr>\n",
       "      <th>2</th>\n",
       "      <td>1.0</td>\n",
       "      <td>0.0</td>\n",
       "    </tr>\n",
       "    <tr>\n",
       "      <th>3</th>\n",
       "      <td>1.0</td>\n",
       "      <td>0.0</td>\n",
       "    </tr>\n",
       "    <tr>\n",
       "      <th>4</th>\n",
       "      <td>1.0</td>\n",
       "      <td>0.0</td>\n",
       "    </tr>\n",
       "  </tbody>\n",
       "</table>\n",
       "</div>"
      ],
      "text/plain": [
       "   False  True \n",
       "0    1.0    0.0\n",
       "1    1.0    0.0\n",
       "2    1.0    0.0\n",
       "3    1.0    0.0\n",
       "4    1.0    0.0"
      ]
     },
     "execution_count": 66,
     "metadata": {},
     "output_type": "execute_result"
    }
   ],
   "source": [
    "train_ohe.head()"
   ]
  },
  {
   "cell_type": "code",
   "execution_count": 67,
   "metadata": {},
   "outputs": [
    {
     "data": {
      "text/plain": [
       "False    0\n",
       "True     0\n",
       "dtype: int64"
      ]
     },
     "execution_count": 67,
     "metadata": {},
     "output_type": "execute_result"
    }
   ],
   "source": [
    "train_ohe.isna().sum()"
   ]
  },
  {
   "cell_type": "markdown",
   "metadata": {},
   "source": [
    "### Converting \"body\" to Vector"
   ]
  },
  {
   "cell_type": "code",
   "execution_count": 68,
   "metadata": {
    "id": "TonbD7jNKLgA"
   },
   "outputs": [],
   "source": [
    "tokenizer = Tokenizer(num_words=5000)\n",
    "tokenizer.fit_on_texts(X_train['body'])"
   ]
  },
  {
   "cell_type": "code",
   "execution_count": 69,
   "metadata": {},
   "outputs": [],
   "source": [
    "word_ind = tokenizer.word_index\n",
    "word_token = {k:[word_ind[k]] for k in word_ind}\n",
    "df_word_token = pd.DataFrame(word_token)\n",
    "df_word_token.to_csv('word_token.csv', header=True, index=False)"
   ]
  },
  {
   "cell_type": "markdown",
   "metadata": {},
   "source": [
    "**Global Vectors for Word Representation for \"body\"**"
   ]
  },
  {
   "cell_type": "code",
   "execution_count": 70,
   "metadata": {},
   "outputs": [],
   "source": [
    "glove_txt = open('glove.6B.100d.txt', encoding=\"utf8\")\n",
    "embed_dict = dict()\n",
    "for line in glove_txt:\n",
    "    records = line.split()\n",
    "    word = records[0]\n",
    "    vector_dimensions = asarray(records[1:], dtype='float32')\n",
    "    embed_dict[word] = vector_dimensions\n",
    "glove_txt.close()\n",
    "\n",
    "embed_mat = zeros((len(word_ind) + 1, 100))\n",
    "for word, index in tokenizer.word_index.items():\n",
    "    embedding_vector = embed_dict.get(word)\n",
    "    if embedding_vector is not None:\n",
    "        embed_mat[index] = embedding_vector\n"
   ]
  },
  {
   "cell_type": "code",
   "execution_count": 71,
   "metadata": {},
   "outputs": [],
   "source": [
    "df_embed_mat = pd.DataFrame(data=embed_mat.astype(float))\n",
    "df_embed_mat.to_csv('embed_mat.csv', sep=' ', header=True, float_format='%.2f', index=False)"
   ]
  },
  {
   "cell_type": "markdown",
   "metadata": {},
   "source": [
    "**using glove vectors to assign vector value for body**"
   ]
  },
  {
   "cell_type": "code",
   "execution_count": 72,
   "metadata": {},
   "outputs": [],
   "source": [
    "max_len = 300\n",
    "## train data\n",
    "train_body = pad_sequences(tokenizer.texts_to_sequences(X_train[\"body\"]), padding='post', maxlen=max_len)\n",
    "train = {}\n",
    "df_train_body = []\n",
    "for i, sentence in enumerate(train_body):\n",
    "    vectors = []\n",
    "    for n in sentence:\n",
    "        vectors.append(embed_mat[n])\n",
    "    train[i] = vectors\n",
    "for key in train:\n",
    "    arr = np.array(train[key])\n",
    "    df_train_body.append(np.mean(arr, axis=0))\n",
    "## test data\n",
    "test_body = pad_sequences(tokenizer.texts_to_sequences(X_test[\"body\"]), padding='post', maxlen=max_len)\n",
    "test = {}\n",
    "df_test_body = []\n",
    "for i, sentence in enumerate(test_body):\n",
    "    vectors = []\n",
    "    for n in sentence:\n",
    "        vectors.append(embed_mat[n])\n",
    "    test[i] = vectors\n",
    "for key in test:\n",
    "    arr = np.array(test[key])\n",
    "    df_test_body.append(np.mean(arr, axis=0))"
   ]
  },
  {
   "cell_type": "code",
   "execution_count": 73,
   "metadata": {
    "id": "ATHo8IXPLUk1"
   },
   "outputs": [],
   "source": [
    "df_train_body = pd.DataFrame(np.array(df_train_body))\n",
    "df_test_body = pd.DataFrame(np.array(df_test_body))"
   ]
  },
  {
   "cell_type": "code",
   "execution_count": 74,
   "metadata": {},
   "outputs": [
    {
     "data": {
      "text/html": [
       "<div>\n",
       "<style scoped>\n",
       "    .dataframe tbody tr th:only-of-type {\n",
       "        vertical-align: middle;\n",
       "    }\n",
       "\n",
       "    .dataframe tbody tr th {\n",
       "        vertical-align: top;\n",
       "    }\n",
       "\n",
       "    .dataframe thead th {\n",
       "        text-align: right;\n",
       "    }\n",
       "</style>\n",
       "<table border=\"1\" class=\"dataframe\">\n",
       "  <thead>\n",
       "    <tr style=\"text-align: right;\">\n",
       "      <th></th>\n",
       "      <th>0</th>\n",
       "      <th>1</th>\n",
       "      <th>2</th>\n",
       "      <th>3</th>\n",
       "      <th>4</th>\n",
       "      <th>5</th>\n",
       "      <th>6</th>\n",
       "      <th>7</th>\n",
       "      <th>8</th>\n",
       "      <th>9</th>\n",
       "      <th>...</th>\n",
       "      <th>90</th>\n",
       "      <th>91</th>\n",
       "      <th>92</th>\n",
       "      <th>93</th>\n",
       "      <th>94</th>\n",
       "      <th>95</th>\n",
       "      <th>96</th>\n",
       "      <th>97</th>\n",
       "      <th>98</th>\n",
       "      <th>99</th>\n",
       "    </tr>\n",
       "  </thead>\n",
       "  <tbody>\n",
       "    <tr>\n",
       "      <th>0</th>\n",
       "      <td>0.003370</td>\n",
       "      <td>-0.003523</td>\n",
       "      <td>-0.004173</td>\n",
       "      <td>-0.008333</td>\n",
       "      <td>-0.001417</td>\n",
       "      <td>0.010825</td>\n",
       "      <td>-0.001509</td>\n",
       "      <td>-0.002788</td>\n",
       "      <td>0.004485</td>\n",
       "      <td>-0.004330</td>\n",
       "      <td>...</td>\n",
       "      <td>0.003086</td>\n",
       "      <td>-0.008875</td>\n",
       "      <td>-0.004849</td>\n",
       "      <td>0.002067</td>\n",
       "      <td>0.000093</td>\n",
       "      <td>-0.006675</td>\n",
       "      <td>-0.001978</td>\n",
       "      <td>0.004342</td>\n",
       "      <td>0.009140</td>\n",
       "      <td>-0.001862</td>\n",
       "    </tr>\n",
       "    <tr>\n",
       "      <th>1</th>\n",
       "      <td>-0.004137</td>\n",
       "      <td>0.001770</td>\n",
       "      <td>-0.000142</td>\n",
       "      <td>-0.002831</td>\n",
       "      <td>-0.001959</td>\n",
       "      <td>0.002628</td>\n",
       "      <td>0.003400</td>\n",
       "      <td>0.003076</td>\n",
       "      <td>-0.001158</td>\n",
       "      <td>0.000659</td>\n",
       "      <td>...</td>\n",
       "      <td>-0.001769</td>\n",
       "      <td>-0.001576</td>\n",
       "      <td>0.001008</td>\n",
       "      <td>0.002208</td>\n",
       "      <td>-0.005153</td>\n",
       "      <td>-0.001037</td>\n",
       "      <td>0.001913</td>\n",
       "      <td>-0.000641</td>\n",
       "      <td>0.003917</td>\n",
       "      <td>-0.000868</td>\n",
       "    </tr>\n",
       "    <tr>\n",
       "      <th>2</th>\n",
       "      <td>0.004423</td>\n",
       "      <td>0.003638</td>\n",
       "      <td>0.028336</td>\n",
       "      <td>-0.012880</td>\n",
       "      <td>0.005124</td>\n",
       "      <td>0.019215</td>\n",
       "      <td>-0.003288</td>\n",
       "      <td>0.009847</td>\n",
       "      <td>-0.015111</td>\n",
       "      <td>-0.003508</td>\n",
       "      <td>...</td>\n",
       "      <td>-0.002716</td>\n",
       "      <td>-0.019373</td>\n",
       "      <td>-0.003544</td>\n",
       "      <td>0.012289</td>\n",
       "      <td>-0.027892</td>\n",
       "      <td>0.007886</td>\n",
       "      <td>-0.027369</td>\n",
       "      <td>-0.007612</td>\n",
       "      <td>0.017931</td>\n",
       "      <td>-0.010146</td>\n",
       "    </tr>\n",
       "    <tr>\n",
       "      <th>3</th>\n",
       "      <td>0.004442</td>\n",
       "      <td>0.008293</td>\n",
       "      <td>0.007236</td>\n",
       "      <td>0.001464</td>\n",
       "      <td>-0.003962</td>\n",
       "      <td>-0.004358</td>\n",
       "      <td>0.001587</td>\n",
       "      <td>0.000333</td>\n",
       "      <td>-0.004214</td>\n",
       "      <td>0.004974</td>\n",
       "      <td>...</td>\n",
       "      <td>0.003109</td>\n",
       "      <td>0.004650</td>\n",
       "      <td>0.003430</td>\n",
       "      <td>0.001328</td>\n",
       "      <td>-0.004065</td>\n",
       "      <td>0.000588</td>\n",
       "      <td>-0.001841</td>\n",
       "      <td>-0.003130</td>\n",
       "      <td>0.000736</td>\n",
       "      <td>-0.000013</td>\n",
       "    </tr>\n",
       "    <tr>\n",
       "      <th>4</th>\n",
       "      <td>0.000181</td>\n",
       "      <td>-0.001349</td>\n",
       "      <td>-0.000275</td>\n",
       "      <td>0.002980</td>\n",
       "      <td>-0.003648</td>\n",
       "      <td>0.003434</td>\n",
       "      <td>0.001145</td>\n",
       "      <td>-0.001554</td>\n",
       "      <td>0.001598</td>\n",
       "      <td>-0.002799</td>\n",
       "      <td>...</td>\n",
       "      <td>0.002082</td>\n",
       "      <td>0.004388</td>\n",
       "      <td>-0.000709</td>\n",
       "      <td>0.000011</td>\n",
       "      <td>0.004133</td>\n",
       "      <td>0.002951</td>\n",
       "      <td>0.003939</td>\n",
       "      <td>-0.003132</td>\n",
       "      <td>0.000218</td>\n",
       "      <td>0.000245</td>\n",
       "    </tr>\n",
       "  </tbody>\n",
       "</table>\n",
       "<p>5 rows × 100 columns</p>\n",
       "</div>"
      ],
      "text/plain": [
       "         0         1         2         3         4         5         6   \\\n",
       "0  0.003370 -0.003523 -0.004173 -0.008333 -0.001417  0.010825 -0.001509   \n",
       "1 -0.004137  0.001770 -0.000142 -0.002831 -0.001959  0.002628  0.003400   \n",
       "2  0.004423  0.003638  0.028336 -0.012880  0.005124  0.019215 -0.003288   \n",
       "3  0.004442  0.008293  0.007236  0.001464 -0.003962 -0.004358  0.001587   \n",
       "4  0.000181 -0.001349 -0.000275  0.002980 -0.003648  0.003434  0.001145   \n",
       "\n",
       "         7         8         9   ...        90        91        92        93  \\\n",
       "0 -0.002788  0.004485 -0.004330  ...  0.003086 -0.008875 -0.004849  0.002067   \n",
       "1  0.003076 -0.001158  0.000659  ... -0.001769 -0.001576  0.001008  0.002208   \n",
       "2  0.009847 -0.015111 -0.003508  ... -0.002716 -0.019373 -0.003544  0.012289   \n",
       "3  0.000333 -0.004214  0.004974  ...  0.003109  0.004650  0.003430  0.001328   \n",
       "4 -0.001554  0.001598 -0.002799  ...  0.002082  0.004388 -0.000709  0.000011   \n",
       "\n",
       "         94        95        96        97        98        99  \n",
       "0  0.000093 -0.006675 -0.001978  0.004342  0.009140 -0.001862  \n",
       "1 -0.005153 -0.001037  0.001913 -0.000641  0.003917 -0.000868  \n",
       "2 -0.027892  0.007886 -0.027369 -0.007612  0.017931 -0.010146  \n",
       "3 -0.004065  0.000588 -0.001841 -0.003130  0.000736 -0.000013  \n",
       "4  0.004133  0.002951  0.003939 -0.003132  0.000218  0.000245  \n",
       "\n",
       "[5 rows x 100 columns]"
      ]
     },
     "execution_count": 74,
     "metadata": {},
     "output_type": "execute_result"
    }
   ],
   "source": [
    "df_train_body.head()"
   ]
  },
  {
   "cell_type": "code",
   "execution_count": 75,
   "metadata": {},
   "outputs": [
    {
     "data": {
      "text/plain": [
       "Index(['body', 'downs', 'upvote_ratio', 'gilded', 'over_18',\n",
       "       'number_of_Comments', 'word_count', 'Subjectivity', 'Polarity', 'neg',\n",
       "       'neu', 'pos', 'compound'],\n",
       "      dtype='object')"
      ]
     },
     "execution_count": 75,
     "metadata": {},
     "output_type": "execute_result"
    }
   ],
   "source": [
    "X_train.columns"
   ]
  },
  {
   "cell_type": "code",
   "execution_count": 76,
   "metadata": {},
   "outputs": [],
   "source": [
    "X_train.reset_index(inplace=True, drop=True)\n",
    "X_test.reset_index(inplace=True, drop=True)\n"
   ]
  },
  {
   "cell_type": "code",
   "execution_count": 77,
   "metadata": {},
   "outputs": [],
   "source": [
    "X_train = pd.concat([X_train, df_train_body, train_ohe], axis=1)\n",
    "X_test =  pd.concat([X_test, df_test_body, test_ohe], axis=1)"
   ]
  },
  {
   "cell_type": "code",
   "execution_count": 78,
   "metadata": {},
   "outputs": [],
   "source": [
    "X_train.drop([\"body\",\"over_18\"], axis=1, inplace=True)\n",
    "X_test.drop([\"body\",\"over_18\"], axis=1, inplace=True)"
   ]
  },
  {
   "cell_type": "code",
   "execution_count": 79,
   "metadata": {},
   "outputs": [
    {
     "data": {
      "text/plain": [
       "array([[ 0.00000000e+00,  9.80000000e-01,  0.00000000e+00, ...,\n",
       "         3.19130003e-03,  1.00000000e+00,  0.00000000e+00],\n",
       "       [ 0.00000000e+00,  9.80000000e-01,  0.00000000e+00, ...,\n",
       "        -2.72476673e-03,  1.00000000e+00,  0.00000000e+00],\n",
       "       [ 0.00000000e+00,  9.80000000e-01,  0.00000000e+00, ...,\n",
       "         3.52799992e-04,  1.00000000e+00,  0.00000000e+00],\n",
       "       ...,\n",
       "       [ 0.00000000e+00,  9.90000000e-01,  0.00000000e+00, ...,\n",
       "        -4.65000023e-04,  1.00000000e+00,  0.00000000e+00],\n",
       "       [ 0.00000000e+00,  9.90000000e-01,  0.00000000e+00, ...,\n",
       "         5.41056663e-03,  1.00000000e+00,  0.00000000e+00],\n",
       "       [ 0.00000000e+00,  9.60000000e-01,  0.00000000e+00, ...,\n",
       "        -1.52243331e-03,  1.00000000e+00,  0.00000000e+00]])"
      ]
     },
     "execution_count": 79,
     "metadata": {},
     "output_type": "execute_result"
    }
   ],
   "source": [
    "np.where(np.isnan(X_train), ma.array(X_train, mask=np.isnan(X_train)).mean(axis=0), X_train)  \n",
    "np.where(np.isnan(X_test), ma.array(X_test, mask=np.isnan(X_test)).mean(axis=0), X_test)  "
   ]
  },
  {
   "cell_type": "code",
   "execution_count": 80,
   "metadata": {},
   "outputs": [
    {
     "data": {
      "text/plain": [
       "((5301, 113), (2273, 113))"
      ]
     },
     "execution_count": 80,
     "metadata": {},
     "output_type": "execute_result"
    }
   ],
   "source": [
    "X_train.shape , X_test.shape"
   ]
  },
  {
   "cell_type": "code",
   "execution_count": 81,
   "metadata": {},
   "outputs": [],
   "source": [
    "def model_diagnostics(model):\n",
    "    train_pred = model.predict(X_train)\n",
    "    r2 = r2_score(y_train, train_pred)\n",
    "    mse = mean_squared_error(y_train, train_pred)\n",
    "    mae = mean_absolute_error(y_train, train_pred)\n",
    "    print(f\"R-Sq of train data: {r2:.4}\")\n",
    "    print(f\"RMSE of train data: {np.sqrt(mse)}\")\n",
    "    print(f\"MAE  of train data: {mae}\")\n",
    "    print(\"*\"*60)\n",
    "    \n",
    "    y_predicted = model.predict(X_test)\n",
    "    r2 = r2_score(y_test, y_predicted)\n",
    "    mse = mean_squared_error(y_test, y_predicted)\n",
    "    mae = mean_absolute_error(y_test, y_predicted)\n",
    "    print(f\"R-Sq of test data: {r2:.4}\")\n",
    "    print(f\"RMSE of test data: {np.sqrt(mse)}\")\n",
    "    print(f\"MAE of test data: {mae}\")\n",
    "    \n",
    "    return [r2,np.sqrt(mse),mae]  \n",
    "\n",
    "\n",
    "model_metrics = dict()"
   ]
  },
  {
   "cell_type": "markdown",
   "metadata": {},
   "source": [
    "# Modelling "
   ]
  },
  {
   "cell_type": "markdown",
   "metadata": {},
   "source": [
    "### Linear Regression"
   ]
  },
  {
   "cell_type": "code",
   "execution_count": 83,
   "metadata": {},
   "outputs": [
    {
     "name": "stdout",
     "output_type": "stream",
     "text": [
      "R-Sq of train data: 0.3823\n",
      "RMSE of train data: 8893.69966350672\n",
      "MAE  of train data: 4142.344542155961\n",
      "************************************************************\n",
      "R-Sq of test data: 0.3064\n",
      "RMSE of test data: 8010.104279421352\n",
      "MAE of test data: 3995.3615850472943\n"
     ]
    }
   ],
   "source": [
    "linear = LinearRegression(copy_X=True, fit_intercept=True, n_jobs=1, normalize=False)\n",
    "linear.fit(X_train,y_train)\n",
    "model_metrics[\"Linear Regression\"] = model_diagnostics(linear)"
   ]
  },
  {
   "cell_type": "markdown",
   "metadata": {},
   "source": [
    "### Regularisation of Linear Regression"
   ]
  },
  {
   "cell_type": "code",
   "execution_count": 84,
   "metadata": {},
   "outputs": [
    {
     "name": "stdout",
     "output_type": "stream",
     "text": [
      "R-Sq of train data: 0.2818\n",
      "RMSE of train data: 9590.289201600848\n",
      "MAE  of train data: 4459.892866349639\n",
      "************************************************************\n",
      "R-Sq of test data: 0.2373\n",
      "RMSE of test data: 8399.27730773281\n",
      "MAE of test data: 4200.314261345736\n"
     ]
    }
   ],
   "source": [
    "elastic_net = ElasticNetCV(cv = 30).fit(X_train, y_train)\n",
    "model_metrics[\"Elastic Net Regression\"] = model_diagnostics(elastic_net)"
   ]
  },
  {
   "cell_type": "code",
   "execution_count": 85,
   "metadata": {},
   "outputs": [
    {
     "data": {
      "text/plain": [
       "161013.75736098745"
      ]
     },
     "execution_count": 85,
     "metadata": {},
     "output_type": "execute_result"
    }
   ],
   "source": [
    "elastic_net.alpha_\n"
   ]
  },
  {
   "cell_type": "markdown",
   "metadata": {},
   "source": [
    "### Decision Tree Regression"
   ]
  },
  {
   "cell_type": "code",
   "execution_count": 86,
   "metadata": {},
   "outputs": [
    {
     "data": {
      "text/plain": [
       "GridSearchCV(cv=10, estimator=DecisionTreeRegressor(),\n",
       "             param_grid=[{'max_depth': [2, 3, 4, 5, 6, 7, None],\n",
       "                          'max_features': [1, 2, 3, 4],\n",
       "                          'min_samples_leaf': array([35, 40, 45, 50]),\n",
       "                          'min_samples_split': array([35, 40, 45, 50])}])"
      ]
     },
     "execution_count": 86,
     "metadata": {},
     "output_type": "execute_result"
    }
   ],
   "source": [
    "dt_cv=model_selection.GridSearchCV(DecisionTreeRegressor(),param_grid=[{'max_depth':[2,3,4,5,6,7,None],\n",
    "                                                                        \"max_features\":[1,2,3,4],\n",
    "                                                                        \"min_samples_split\": np.arange(35,55,5),\n",
    "                                                                        \"min_samples_leaf\": np.arange(35,55,5)}],cv=10)\n",
    "dt_cv.fit(X_train,y_train)"
   ]
  },
  {
   "cell_type": "code",
   "execution_count": 87,
   "metadata": {},
   "outputs": [
    {
     "data": {
      "text/plain": [
       "DecisionTreeRegressor(max_depth=4, max_features=4, min_samples_leaf=40,\n",
       "                      min_samples_split=45)"
      ]
     },
     "execution_count": 87,
     "metadata": {},
     "output_type": "execute_result"
    }
   ],
   "source": [
    "dt_cv.best_estimator_"
   ]
  },
  {
   "cell_type": "code",
   "execution_count": 88,
   "metadata": {},
   "outputs": [
    {
     "name": "stdout",
     "output_type": "stream",
     "text": [
      "R-Sq of train data: 0.02907\n",
      "RMSE of train data: 11150.666738522103\n",
      "MAE  of train data: 5295.861536162979\n",
      "************************************************************\n",
      "R-Sq of test data: -0.03086\n",
      "RMSE of test data: 9765.086588040833\n",
      "MAE of test data: 5080.004750138055\n"
     ]
    }
   ],
   "source": [
    "dt = DecisionTreeRegressor(max_depth=6, max_features=4,min_samples_split=50, min_samples_leaf=40, random_state = 10)\n",
    "dt.fit(X_train, y_train)\n",
    "model_metrics[\"Decision Tree\"] = model_diagnostics(dt)\n"
   ]
  },
  {
   "cell_type": "markdown",
   "metadata": {},
   "source": [
    "### Random Forest Regression"
   ]
  },
  {
   "cell_type": "code",
   "execution_count": 89,
   "metadata": {},
   "outputs": [],
   "source": [
    "rf_cv=model_selection.GridSearchCV(RandomForestRegressor(),param_grid=[{'min_samples_leaf': [1, 5,10],\n",
    "                                                                         'min_samples_split': [ 5, 10],\n",
    "                                                                         'n_estimators': [10,50,70]}])"
   ]
  },
  {
   "cell_type": "markdown",
   "metadata": {},
   "source": [
    "rf_cv.fit(X_train,y_train)"
   ]
  },
  {
   "cell_type": "code",
   "execution_count": 90,
   "metadata": {},
   "outputs": [
    {
     "name": "stdout",
     "output_type": "stream",
     "text": [
      "R-Sq of train data: 0.7789\n",
      "RMSE of train data: 5321.282422360817\n",
      "MAE  of train data: 2055.8962436148945\n",
      "************************************************************\n",
      "R-Sq of test data: 0.4772\n",
      "RMSE of test data: 6953.883521261184\n",
      "MAE of test data: 2863.126472728838\n"
     ]
    }
   ],
   "source": [
    "rf = RandomForestRegressor(n_jobs=-1, n_estimators=70, min_samples_leaf=10, random_state = 10)\n",
    "rf.fit(X_train, y_train) \n",
    "model_metrics[\"Random Forest\"] = model_diagnostics(rf)"
   ]
  },
  {
   "cell_type": "markdown",
   "metadata": {},
   "source": [
    "### Gradient Boosting Regressor"
   ]
  },
  {
   "cell_type": "code",
   "execution_count": 91,
   "metadata": {},
   "outputs": [],
   "source": [
    "gbr_cv= model_selection.GridSearchCV(GradientBoostingRegressor(),param_grid=[{'n_estimators':[500,1000,2000],\n",
    "                                                                              'learning_rate':[.001,0.01,.1],\n",
    "                                                                              'max_depth':[1,2,4],\n",
    "                                                                              'subsample':[.5,.75,1],\n",
    "                                                                              'random_state':[10]}])"
   ]
  },
  {
   "cell_type": "markdown",
   "metadata": {},
   "source": [
    "gbr_cv.fit(X_train,y_train)"
   ]
  },
  {
   "cell_type": "code",
   "execution_count": 92,
   "metadata": {},
   "outputs": [
    {
     "name": "stdout",
     "output_type": "stream",
     "text": [
      "R-Sq of train data: 0.5878\n",
      "RMSE of train data: 7265.366395524566\n",
      "MAE  of train data: 3565.9334086102394\n",
      "************************************************************\n",
      "R-Sq of test data: 0.4239\n",
      "RMSE of test data: 7300.316234911899\n",
      "MAE of test data: 3572.2645627726033\n"
     ]
    }
   ],
   "source": [
    "gbr = GradientBoostingRegressor(n_estimators=70, max_depth=5,learning_rate=0.01, random_state = 10)\n",
    "gbr.fit(X_train, y_train)\n",
    "model_metrics[\"Gradient Boosting Regression\"] = model_diagnostics(gbr)"
   ]
  },
  {
   "cell_type": "markdown",
   "metadata": {},
   "source": [
    "### XG Boost Regressor"
   ]
  },
  {
   "cell_type": "code",
   "execution_count": 93,
   "metadata": {},
   "outputs": [],
   "source": [
    "xgbr_cv= model_selection.GridSearchCV(xgb.XGBRegressor(),param_grid=[{'nthread':[4],\n",
    "                                                                  'learning_rate': [.03, 0.05, .07], \n",
    "                                                                  'max_depth': [5, 6, 7],\n",
    "                                                                  'subsample': [0.7],\n",
    "                                                                  'colsample_bytree': [0.7],\n",
    "                                                                  'n_estimators': [500]}],cv = 2,n_jobs = 5,verbose=True)"
   ]
  },
  {
   "cell_type": "code",
   "execution_count": 94,
   "metadata": {},
   "outputs": [
    {
     "name": "stdout",
     "output_type": "stream",
     "text": [
      "Fitting 2 folds for each of 9 candidates, totalling 18 fits\n"
     ]
    },
    {
     "name": "stderr",
     "output_type": "stream",
     "text": [
      "[Parallel(n_jobs=5)]: Using backend LokyBackend with 5 concurrent workers.\n",
      "[Parallel(n_jobs=5)]: Done  18 out of  18 | elapsed:  1.9min finished\n"
     ]
    },
    {
     "name": "stdout",
     "output_type": "stream",
     "text": [
      "[23:12:41] WARNING: C:/Jenkins/workspace/xgboost-win64_release_0.90/src/objective/regression_obj.cu:152: reg:linear is now deprecated in favor of reg:squarederror.\n"
     ]
    },
    {
     "data": {
      "text/plain": [
       "GridSearchCV(cv=2, estimator=XGBRegressor(), n_jobs=5,\n",
       "             param_grid=[{'colsample_bytree': [0.7],\n",
       "                          'learning_rate': [0.03, 0.05, 0.07],\n",
       "                          'max_depth': [5, 6, 7], 'n_estimators': [500],\n",
       "                          'nthread': [4], 'subsample': [0.7]}],\n",
       "             verbose=True)"
      ]
     },
     "execution_count": 94,
     "metadata": {},
     "output_type": "execute_result"
    }
   ],
   "source": [
    "xgbr_cv.fit(X_train,y_train)"
   ]
  },
  {
   "cell_type": "code",
   "execution_count": 95,
   "metadata": {},
   "outputs": [
    {
     "name": "stdout",
     "output_type": "stream",
     "text": [
      "Best parameters found by grid search are: {'colsample_bytree': 0.7, 'learning_rate': 0.03, 'max_depth': 5, 'n_estimators': 500, 'nthread': 4, 'subsample': 0.7}\n"
     ]
    }
   ],
   "source": [
    "print('Best parameters found by grid search are:',xgbr_cv.best_params_)"
   ]
  },
  {
   "cell_type": "code",
   "execution_count": 96,
   "metadata": {},
   "outputs": [
    {
     "name": "stdout",
     "output_type": "stream",
     "text": [
      "[23:12:53] WARNING: C:/Jenkins/workspace/xgboost-win64_release_0.90/src/objective/regression_obj.cu:152: reg:linear is now deprecated in favor of reg:squarederror.\n",
      "R-Sq of train data: 0.9628\n",
      "RMSE of train data: 2181.899062399816\n",
      "MAE  of train data: 1230.228932681162\n",
      "************************************************************\n",
      "R-Sq of test data: 0.5409\n",
      "RMSE of test data: 6516.622139415082\n",
      "MAE of test data: 2819.544865599457\n"
     ]
    }
   ],
   "source": [
    "xgbr = xgb.XGBRegressor(colsample_bytree= 0.7, learning_rate= 0.03, max_depth= 5, n_estimators= 500,\n",
    "                        nthread= 4, subsample= 0.7)\n",
    "xgbr.fit(X_train, y_train)\n",
    "model_metrics[\"XG Boost Regression\"] = model_diagnostics(xgbr)"
   ]
  },
  {
   "cell_type": "markdown",
   "metadata": {},
   "source": [
    "### LG Boost Regressor"
   ]
  },
  {
   "cell_type": "code",
   "execution_count": 98,
   "metadata": {},
   "outputs": [],
   "source": [
    "lgbr_cv=model_selection.GridSearchCV(lgbm.LGBMRegressor(),param_grid=[{'learning_rate': [0.01, 0.1, 1],\n",
    "                                                                  'n_estimators': [20, 40]}], cv=3)"
   ]
  },
  {
   "cell_type": "code",
   "execution_count": 99,
   "metadata": {},
   "outputs": [
    {
     "data": {
      "text/plain": [
       "GridSearchCV(cv=3, estimator=LGBMRegressor(),\n",
       "             param_grid=[{'learning_rate': [0.01, 0.1, 1],\n",
       "                          'n_estimators': [20, 40]}])"
      ]
     },
     "execution_count": 99,
     "metadata": {},
     "output_type": "execute_result"
    }
   ],
   "source": [
    "lgbr_cv.fit(X_train,y_train)"
   ]
  },
  {
   "cell_type": "code",
   "execution_count": 100,
   "metadata": {},
   "outputs": [
    {
     "name": "stdout",
     "output_type": "stream",
     "text": [
      "Best parameters found by grid search are: {'learning_rate': 0.1, 'n_estimators': 20}\n"
     ]
    }
   ],
   "source": [
    "print('Best parameters found by grid search are:', lgbr_cv.best_params_)"
   ]
  },
  {
   "cell_type": "code",
   "execution_count": 101,
   "metadata": {},
   "outputs": [
    {
     "name": "stdout",
     "output_type": "stream",
     "text": [
      "R-Sq of train data: 0.8056\n",
      "RMSE of train data: 4990.028669016591\n",
      "MAE  of train data: 2297.225312052588\n",
      "************************************************************\n",
      "R-Sq of test data: 0.5313\n",
      "RMSE of test data: 6584.414086308942\n",
      "MAE of test data: 2915.157861025196\n"
     ]
    }
   ],
   "source": [
    "lgbr=lgbm.LGBMRegressor(learning_rate= 0.1, n_estimators= 20)\n",
    "lgbr.fit(X_train, y_train)\n",
    "model_metrics[\"LG Boost Regression\"] = model_diagnostics(lgbr)"
   ]
  },
  {
   "cell_type": "markdown",
   "metadata": {},
   "source": [
    "### Model comparison"
   ]
  },
  {
   "cell_type": "markdown",
   "metadata": {},
   "source": [
    "We compare the models based on three metrics: RMSE, MAE, and R2. To do so, we define the function below."
   ]
  },
  {
   "cell_type": "code",
   "execution_count": 102,
   "metadata": {},
   "outputs": [],
   "source": [
    "def model_comparison(model_metrics, sort_by = 'RMSE', metric = 'RMSE'):\n",
    "\n",
    "    Rsq_list = []\n",
    "    RMSE_list = []\n",
    "    MAE_list = []\n",
    "    for key in model_metrics.keys():\n",
    "        Rsq_list.append(round(model_metrics[key][0],2))\n",
    "        RMSE_list.append(round(model_metrics[key][1],0))\n",
    "        MAE_list.append(round(model_metrics[key][2],0))\n",
    "\n",
    "    props = pd.DataFrame([])\n",
    "\n",
    "    props[\"R-squared\"] = Rsq_list\n",
    "    props[\"RMSE\"] = RMSE_list\n",
    "    props[\"MAE\"] = MAE_list\n",
    "    props.index = model_metrics.keys()\n",
    "    props = props.sort_values(by = sort_by, ascending=False)\n",
    "\n",
    "    fig, ax = plt.subplots(figsize = (12,6))\n",
    "\n",
    "    ax.bar(props.index.sort_values(), props[metric], color=\"blue\")\n",
    "    xt = props.index\n",
    "    ax.set_xticklabels(xt)\n",
    "    plt.title(metric)\n",
    "    plt.xlabel('Model') \n",
    "    plt.xticks(rotation = 45)\n",
    "    plt.ylabel(metric)\n",
    "    \n",
    "   \n",
    "    for i, v in enumerate(props[metric]):\n",
    "        ax.text(i-.25, \n",
    "              v/props[metric][i]-.8, \n",
    "              props[metric][i], \n",
    "              fontsize=9, \n",
    "              color='WHITE')"
   ]
  },
  {
   "cell_type": "code",
   "execution_count": 103,
   "metadata": {},
   "outputs": [
    {
     "data": {
      "image/png": "[encoded data removed]",
      "text/plain": [
       "<Figure size 864x432 with 1 Axes>"
      ]
     },
     "metadata": {},
     "output_type": "display_data"
    }
   ],
   "source": [
    "model_comparison(model_metrics, sort_by = 'R-squared', metric = 'R-squared')"
   ]
  },
  {
   "cell_type": "code",
   "execution_count": 104,
   "metadata": {},
   "outputs": [
    {
     "data": {
      "image/png": "[encoded data removed]",
      "text/plain": [
       "<Figure size 864x432 with 1 Axes>"
      ]
     },
     "metadata": {},
     "output_type": "display_data"
    }
   ],
   "source": [
    "model_comparison(model_metrics, sort_by = 'RMSE', metric = 'RMSE')\n"
   ]
  },
  {
   "cell_type": "code",
   "execution_count": 105,
   "metadata": {},
   "outputs": [
    {
     "data": {
      "image/png": "[encoded data removed]",
      "text/plain": [
       "<Figure size 864x432 with 1 Axes>"
      ]
     },
     "metadata": {},
     "output_type": "display_data"
    }
   ],
   "source": [
    "model_comparison(model_metrics, sort_by = 'MAE', metric = 'MAE')"
   ]
  },
  {
   "cell_type": "markdown",
   "metadata": {},
   "source": [
    "#### Based on R-square, RMSE and MAE , XG Boost Regressor is performing at par compared to other models. "
   ]
  },
  {
   "cell_type": "markdown",
   "metadata": {},
   "source": [
    "**Creating Booster file to load XGBoost Regressor**"
   ]
  },
  {
   "cell_type": "code",
   "execution_count": 97,
   "metadata": {},
   "outputs": [],
   "source": [
    "from xgboost import Booster\n",
    "xgbr.save_model('xgbr.booster')\n",
    "\n"
   ]
  },
  {
   "cell_type": "code",
   "execution_count": null,
   "metadata": {},
   "outputs": [],
   "source": []
  },
  {
   "cell_type": "code",
   "execution_count": null,
   "metadata": {},
   "outputs": [],
   "source": []
  },
  {
   "cell_type": "code",
   "execution_count": null,
   "metadata": {},
   "outputs": [],
   "source": []
  },
  {
   "cell_type": "code",
   "execution_count": null,
   "metadata": {},
   "outputs": [],
   "source": []
  },
  {
   "cell_type": "code",
   "execution_count": null,
   "metadata": {},
   "outputs": [],
   "source": []
  },
  {
   "cell_type": "code",
   "execution_count": null,
   "metadata": {},
   "outputs": [],
   "source": []
  }
 ],
 "metadata": {
  "kernelspec": {
   "display_name": "Python 3",
   "language": "python",
   "name": "python3"
  },
  "language_info": {
   "codemirror_mode": {
    "name": "ipython",
    "version": 3
   },
   "file_extension": ".py",
   "mimetype": "text/x-python",
   "name": "python",
   "nbconvert_exporter": "python",
   "pygments_lexer": "ipython3",
   "version": "3.7.0"
  }
 },
 "nbformat": 4,
 "nbformat_minor": 2
}
